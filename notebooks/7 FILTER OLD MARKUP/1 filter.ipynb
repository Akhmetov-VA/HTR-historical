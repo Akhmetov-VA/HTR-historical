{
 "cells": [
  {
   "cell_type": "code",
   "execution_count": null,
   "metadata": {},
   "outputs": [],
   "source": [
    "import json\n",
    "import os"
   ]
  },
  {
   "cell_type": "code",
   "execution_count": null,
   "metadata": {},
   "outputs": [],
   "source": [
    "len(os.listdir('/storage3/vadim/HTR-historical/data/raw/target_markup'))"
   ]
  },
  {
   "cell_type": "code",
   "execution_count": null,
   "metadata": {},
   "outputs": [],
   "source": [
    "finished = []\n",
    "markup_path = '/storage3/vadim/HTR-historical/data/raw/target_markup'\n",
    "img_path = '/storage3/vadim/HTR-historical/data/raw/14'\n",
    "\n",
    "for name in os.listdir(markup_path):\n",
    "    with open(os.path.join(markup_path, name)) as file:\n",
    "        out = json.load(file)\n",
    "        finished.append(out['task']['data']['ocr'].split('/')[-1])\n",
    "        \n",
    "finished\n",
    "\n",
    "# Step 3: Filter images that are in the markup and delete them\n",
    "filtered_images = [img for img in os.listdir(img_path) if img in finished]\n",
    "\n",
    "# Deleting the filtered images\n",
    "for img in filtered_images:\n",
    "    drop_path = os.path.join(img_path, img)\n",
    "    try:\n",
    "        os.remove(drop_path)\n",
    "        print(f\"Deleted: {img}\")\n",
    "    except OSError as e:\n",
    "        print(f\"Error: {e.strerror} - {img}\")"
   ]
  },
  {
   "cell_type": "code",
   "execution_count": null,
   "metadata": {},
   "outputs": [],
   "source": [
    "len(set(os.listdir('/storage3/vadim/HTR-historical/data/raw/14')).intersection(finished))"
   ]
  },
  {
   "cell_type": "code",
   "execution_count": null,
   "metadata": {},
   "outputs": [],
   "source": []
  },
  {
   "cell_type": "code",
   "execution_count": null,
   "metadata": {},
   "outputs": [],
   "source": []
  },
  {
   "cell_type": "code",
   "execution_count": null,
   "metadata": {},
   "outputs": [],
   "source": [
    "len(finished)"
   ]
  },
  {
   "cell_type": "code",
   "execution_count": null,
   "metadata": {},
   "outputs": [],
   "source": []
  }
 ],
 "metadata": {
  "kernelspec": {
   "display_name": ".venv",
   "language": "python",
   "name": "python3"
  },
  "language_info": {
   "codemirror_mode": {
    "name": "ipython",
    "version": 3
   },
   "file_extension": ".py",
   "mimetype": "text/x-python",
   "name": "python",
   "nbconvert_exporter": "python",
   "pygments_lexer": "ipython3",
   "version": "3.11.9"
  }
 },
 "nbformat": 4,
 "nbformat_minor": 2
}
