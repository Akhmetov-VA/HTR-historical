{
 "cells": [
  {
   "cell_type": "code",
   "execution_count": 12,
   "metadata": {},
   "outputs": [],
   "source": [
    "import json\n",
    "import os"
   ]
  },
  {
   "cell_type": "code",
   "execution_count": 18,
   "metadata": {},
   "outputs": [
    {
     "data": {
      "text/plain": [
       "88"
      ]
     },
     "execution_count": 18,
     "metadata": {},
     "output_type": "execute_result"
    }
   ],
   "source": [
    "len(os.listdir('/storage3/vadim/HTR-historical/data/raw/target_markup'))"
   ]
  },
  {
   "cell_type": "code",
   "execution_count": 25,
   "metadata": {},
   "outputs": [
    {
     "name": "stdout",
     "output_type": "stream",
     "text": [
      "Deleted: 0a32897d-0109.jpeg\n",
      "Deleted: 0a7607c2-19.png\n",
      "Deleted: 10a09237-0191.jpeg\n",
      "Deleted: 14c1bb7d-0169.jpeg\n",
      "Deleted: 17237b4c-0204.jpeg\n",
      "Deleted: 19aeb4bf-0189.jpeg\n",
      "Deleted: 1ba964e2-0167.jpeg\n",
      "Deleted: 20d53a0e-0150.jpeg\n",
      "Deleted: 2100067f-0182.jpeg\n",
      "Deleted: 236cb09d-0179.jpeg\n",
      "Deleted: 25224991-0177.jpeg\n",
      "Deleted: 26b555a6-0197.jpeg\n",
      "Deleted: 28551ae9-0175.jpeg\n",
      "Deleted: 29197f5a-10.png\n",
      "Deleted: 29daac4a-0194.jpeg\n",
      "Deleted: 2c4c3c89-0149.jpeg\n",
      "Deleted: 3111617b-0205.jpeg\n",
      "Deleted: 3181ad39-0165.jpeg\n",
      "Deleted: 32b3480e-0052.jpeg\n",
      "Deleted: 35c52fd9-0180.jpeg\n",
      "Deleted: 3894a118-0122.jpeg\n",
      "Deleted: 1e8ac0a8-0183.jpeg\n",
      "Deleted: 2b72189a-0170.jpeg\n",
      "Deleted: b79a7bc8-0140.jpeg\n",
      "Deleted: ca5715aa-0195.jpeg\n",
      "Deleted: e0f5335f-0064.jpeg\n",
      "Deleted: f2321179-0187.jpeg\n",
      "Deleted: 3ba9de09-12.png\n",
      "Deleted: 3f5213fe-0201.jpeg\n",
      "Deleted: 4057e34d-0181.jpeg\n",
      "Deleted: 40b52962-0151.jpeg\n",
      "Deleted: 40e31053-0172.jpeg\n",
      "Deleted: 42ad32ff-16.png\n",
      "Deleted: 43bb8b2c-0164.jpeg\n",
      "Deleted: 459dd24c-0202.jpeg\n",
      "Deleted: 47c70f2c-0174.jpeg\n",
      "Deleted: 4d7e1b56-0154.jpeg\n",
      "Deleted: 4f943f18-21.png\n",
      "Deleted: 603b8249-0206.jpeg\n",
      "Deleted: 659398dc-17.png\n",
      "Deleted: 6a84af98-0099.jpeg\n",
      "Deleted: 6c3d6ba7-0009.jpeg\n",
      "Deleted: 6ec3d82d-14.png\n",
      "Deleted: 7250b8c7-0200.jpeg\n",
      "Deleted: 76779eeb-2.png\n",
      "Deleted: 768eefba-0162.jpeg\n",
      "Deleted: 77ef2235-0190.jpeg\n",
      "Deleted: 828a0ae6-0193.jpeg\n",
      "Deleted: 83895ad3-0063.jpeg\n",
      "Deleted: 848c1759-0142.jpeg\n",
      "Deleted: 864dbdfe-0192.jpeg\n",
      "Deleted: 89dcaba6-0185.jpeg\n",
      "Deleted: 909ccbb0-18.png\n",
      "Deleted: 9ad8f4f1-3.png\n",
      "Deleted: 9b035b40-0186.jpeg\n",
      "Deleted: 9b3a8ffc-0188.jpeg\n",
      "Deleted: 9eeabba0-9.png\n",
      "Deleted: a1527205-0176.jpeg\n",
      "Deleted: a2867432-0160.jpeg\n",
      "Deleted: a6e01dbc-0010.jpeg\n",
      "Deleted: a84c11c3-0007.jpeg\n",
      "Deleted: aaff785a-0147.jpeg\n",
      "Deleted: b0d038e3-0156.jpeg\n",
      "Deleted: b12ea3fe-0161.jpeg\n",
      "Deleted: c6b3d149-0196.jpeg\n",
      "Deleted: c6d63ae5-15.png\n",
      "Deleted: c907f881-0171.jpeg\n",
      "Deleted: ca20b8cc-0163.jpeg\n",
      "Deleted: cb8833f5-0145.jpeg\n",
      "Deleted: ce16e0a0-0198.jpeg\n",
      "Deleted: d15f6c7e-10.png\n",
      "Deleted: d7a9001e-9.png\n",
      "Deleted: dea45e19-0166.jpeg\n",
      "Deleted: e24a13d4-0053.jpeg\n",
      "Deleted: e793335e-0168.jpeg\n",
      "Deleted: e8be0052-0144.jpeg\n",
      "Deleted: ea56dbf3-22.png\n",
      "Deleted: eed6e3bb-0184.jpeg\n",
      "Deleted: f0c3c864-0199.jpeg\n",
      "Deleted: f170d21c-0097.jpeg\n",
      "Deleted: f368f2e3-0153.jpeg\n",
      "Deleted: f3c12715-0152.jpeg\n",
      "Deleted: f46a9f33-1.png\n",
      "Deleted: fdf0882e-20.png\n",
      "Deleted: fe0c764f-0178.jpeg\n",
      "Deleted: ff311936-0203.jpeg\n",
      "Deleted: ffcd96b9-0173.jpeg\n"
     ]
    }
   ],
   "source": [
    "finished = []\n",
    "markup_path = '/storage3/vadim/HTR-historical/data/raw/target_markup'\n",
    "img_path = '/storage3/vadim/HTR-historical/data/raw/14'\n",
    "\n",
    "for name in os.listdir(markup_path):\n",
    "    with open(os.path.join(markup_path, name)) as file:\n",
    "        out = json.load(file)\n",
    "        finished.append(out['task']['data']['ocr'].split('/')[-1])\n",
    "        \n",
    "finished\n",
    "\n",
    "# Step 3: Filter images that are in the markup and delete them\n",
    "filtered_images = [img for img in os.listdir(img_path) if img in finished]\n",
    "\n",
    "# Deleting the filtered images\n",
    "for img in filtered_images:\n",
    "    drop_path = os.path.join(img_path, img)\n",
    "    try:\n",
    "        os.remove(drop_path)\n",
    "        print(f\"Deleted: {img}\")\n",
    "    except OSError as e:\n",
    "        print(f\"Error: {e.strerror} - {img}\")"
   ]
  },
  {
   "cell_type": "code",
   "execution_count": 23,
   "metadata": {},
   "outputs": [
    {
     "data": {
      "text/plain": [
       "88"
      ]
     },
     "execution_count": 23,
     "metadata": {},
     "output_type": "execute_result"
    }
   ],
   "source": [
    "len(set(os.listdir('/storage3/vadim/HTR-historical/data/raw/14')).intersection(finished))"
   ]
  },
  {
   "cell_type": "code",
   "execution_count": null,
   "metadata": {},
   "outputs": [],
   "source": []
  },
  {
   "cell_type": "code",
   "execution_count": null,
   "metadata": {},
   "outputs": [],
   "source": []
  },
  {
   "cell_type": "code",
   "execution_count": 20,
   "metadata": {},
   "outputs": [
    {
     "data": {
      "text/plain": [
       "88"
      ]
     },
     "execution_count": 20,
     "metadata": {},
     "output_type": "execute_result"
    }
   ],
   "source": [
    "len(finished)"
   ]
  },
  {
   "cell_type": "code",
   "execution_count": null,
   "metadata": {},
   "outputs": [],
   "source": []
  }
 ],
 "metadata": {
  "kernelspec": {
   "display_name": ".venv",
   "language": "python",
   "name": "python3"
  },
  "language_info": {
   "codemirror_mode": {
    "name": "ipython",
    "version": 3
   },
   "file_extension": ".py",
   "mimetype": "text/x-python",
   "name": "python",
   "nbconvert_exporter": "python",
   "pygments_lexer": "ipython3",
   "version": "3.11.9"
  }
 },
 "nbformat": 4,
 "nbformat_minor": 2
}
