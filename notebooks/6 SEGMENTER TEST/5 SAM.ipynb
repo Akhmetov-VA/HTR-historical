{
 "cells": [
  {
   "cell_type": "code",
   "execution_count": 1,
   "metadata": {},
   "outputs": [
    {
     "name": "stdout",
     "output_type": "stream",
     "text": [
      "Model summary: 566 layers, 80,833,666 parameters, 80,833,666 gradients\n"
     ]
    },
    {
     "data": {
      "text/plain": [
       "(566, 80833666, 80833666, 0.0)"
      ]
     },
     "execution_count": 1,
     "metadata": {},
     "output_type": "execute_result"
    }
   ],
   "source": [
    "from ultralytics import SAM\n",
    "\n",
    "# Load a model\n",
    "model = SAM(\"sam2_b.pt\")\n",
    "\n",
    "# Display model information (optional)\n",
    "model.info()"
   ]
  },
  {
   "cell_type": "code",
   "execution_count": 2,
   "metadata": {},
   "outputs": [],
   "source": [
    "import os\n",
    "path = \"/storage3/vadim/HTR-historical/data/processed/4 Segmenter test/text_segmenter/test/images/\"\n",
    "out = os.listdir(path)\n",
    "out = [path + name for name in out]"
   ]
  },
  {
   "cell_type": "code",
   "execution_count": 3,
   "metadata": {},
   "outputs": [
    {
     "name": "stdout",
     "output_type": "stream",
     "text": [
      "\n",
      "image 1/1 /storage3/vadim/HTR-historical/data/processed/4 Segmenter test/text_segmenter/test/images/080951f6-13.png: 1024x1024 1 0, 1 1, 1 2, 1 3, 3713.2ms\n",
      "Speed: 19.7ms preprocess, 3713.2ms inference, 1.1ms postprocess per image at shape (1, 3, 1024, 1024)\n"
     ]
    }
   ],
   "source": [
    "# Segment with bounding box prompt\n",
    "results = model(out[0])"
   ]
  },
  {
   "cell_type": "code",
   "execution_count": 10,
   "metadata": {},
   "outputs": [
    {
     "data": {
      "text/plain": [
       "'results_080951f6-13.png'"
      ]
     },
     "execution_count": 10,
     "metadata": {},
     "output_type": "execute_result"
    }
   ],
   "source": [
    "results[0].save()"
   ]
  },
  {
   "cell_type": "code",
   "execution_count": 6,
   "metadata": {},
   "outputs": [
    {
     "data": {
      "text/plain": [
       "[ultralytics.engine.results.Results object with attributes:\n",
       " \n",
       " boxes: None\n",
       " keypoints: None\n",
       " masks: ultralytics.engine.results.Masks object\n",
       " names: {0: '0'}\n",
       " obb: None\n",
       " orig_img: array([[[ 8,  8,  8],\n",
       "         [ 8,  8,  8],\n",
       "         [ 8,  8,  8],\n",
       "         ...,\n",
       "         [13, 13, 13],\n",
       "         [14, 13, 13],\n",
       "         [14, 11, 10]],\n",
       " \n",
       "        [[ 8,  8,  8],\n",
       "         [ 8,  8,  8],\n",
       "         [ 8,  8,  8],\n",
       "         ...,\n",
       "         [13, 13, 13],\n",
       "         [14, 13, 13],\n",
       "         [14, 11, 10]],\n",
       " \n",
       "        [[ 8,  8,  8],\n",
       "         [ 8,  8,  8],\n",
       "         [ 8,  8,  8],\n",
       "         ...,\n",
       "         [13, 13, 13],\n",
       "         [14, 13, 13],\n",
       "         [14, 11, 10]],\n",
       " \n",
       "        ...,\n",
       " \n",
       "        [[ 0,  5,  4],\n",
       "         [ 0,  5,  4],\n",
       "         [ 2,  7,  6],\n",
       "         ...,\n",
       "         [ 1,  1,  4],\n",
       "         [ 2,  1,  3],\n",
       "         [10,  9,  9]],\n",
       " \n",
       "        [[12, 15, 16],\n",
       "         [14, 16, 17],\n",
       "         [14, 16, 17],\n",
       "         ...,\n",
       "         [11, 13, 13],\n",
       "         [11, 12, 12],\n",
       "         [21, 19, 21]],\n",
       " \n",
       "        [[ 5,  1,  3],\n",
       "         [ 5,  0,  2],\n",
       "         [ 8,  0,  3],\n",
       "         ...,\n",
       "         [ 0,  3,  1],\n",
       "         [ 0,  2,  0],\n",
       "         [ 3,  0,  2]]], dtype=uint8)\n",
       " orig_shape: (4579, 3121)\n",
       " path: '/storage3/vadim/HTR-historical/data/processed/4 Segmenter test/text_segmenter/test/images/080951f6-13.png'\n",
       " probs: None\n",
       " save_dir: '/storage3/vadim/HTR-historical/runs/segment/predict'\n",
       " speed: {'preprocess': 16.487598419189453, 'inference': 475.5101203918457, 'postprocess': 1.0755062103271484}]"
      ]
     },
     "execution_count": 6,
     "metadata": {},
     "output_type": "execute_result"
    }
   ],
   "source": [
    "results"
   ]
  },
  {
   "cell_type": "code",
   "execution_count": null,
   "metadata": {},
   "outputs": [],
   "source": [
    "# Segment with point prompt\n",
    "results = model(\"path/to/image.jpg\", points=[150, 150], labels=[1])"
   ]
  },
  {
   "cell_type": "code",
   "execution_count": 15,
   "metadata": {},
   "outputs": [
    {
     "name": "stdout",
     "output_type": "stream",
     "text": [
      "\n",
      "image 1/1 /storage3/vadim/HTR-historical/data/processed/4 Segmenter test/text_segmenter/test/images/080951f6-13.png: 1568x1088 59 texts, 29.7ms\n",
      "Speed: 8.1ms preprocess, 29.7ms inference, 3.0ms postprocess per image at shape (1, 3, 1568, 1088)\n"
     ]
    }
   ],
   "source": [
    "from ultralytics.data.annotator import auto_annotate\n",
    "\n",
    "res = auto_annotate(data=out[0], det_model=\"/storage3/vadim/HTR-historical/runs/segment/train/weights/best.pt\", sam_model=\"sam2_b.pt\", output_dir='out')"
   ]
  },
  {
   "cell_type": "code",
   "execution_count": null,
   "metadata": {},
   "outputs": [],
   "source": []
  },
  {
   "cell_type": "code",
   "execution_count": 8,
   "metadata": {},
   "outputs": [],
   "source": [
    "from pathlib import Path\n",
    "\n",
    "from ultralytics import SAM, YOLO\n",
    "\n",
    "def auto_annotate(data, det_model=\"yolov8x.pt\", sam_model=\"sam_b.pt\", device=\"\", output_dir=None):\n",
    "    \"\"\"\n",
    "    Automatically annotates images using a YOLO object detection model and a SAM segmentation model.\n",
    "\n",
    "    This function processes images in a specified directory, detects objects using a YOLO model, and then generates\n",
    "    segmentation masks using a SAM model. The resulting annotations are saved as text files.\n",
    "\n",
    "    Args:\n",
    "        data (str): Path to a folder containing images to be annotated.\n",
    "        det_model (str): Path or name of the pre-trained YOLO detection model.\n",
    "        sam_model (str): Path or name of the pre-trained SAM segmentation model.\n",
    "        device (str): Device to run the models on (e.g., 'cpu', 'cuda', '0').\n",
    "        output_dir (str | None): Directory to save the annotated results. If None, a default directory is created.\n",
    "\n",
    "    Examples:\n",
    "        >>> from ultralytics.data.annotator import auto_annotate\n",
    "        >>> auto_annotate(data=\"ultralytics/assets\", det_model=\"yolov8n.pt\", sam_model=\"mobile_sam.pt\")\n",
    "\n",
    "    Notes:\n",
    "        - The function creates a new directory for output if not specified.\n",
    "        - Annotation results are saved as text files with the same names as the input images.\n",
    "        - Each line in the output text file represents a detected object with its class ID and segmentation points.\n",
    "    \"\"\"\n",
    "    det_model = YOLO(det_model)\n",
    "    sam_model = SAM(sam_model)\n",
    "\n",
    "    data = Path(data)\n",
    "    if not output_dir:\n",
    "        output_dir = data.parent / f\"{data.stem}_auto_annotate_labels\"\n",
    "    Path(output_dir).mkdir(exist_ok=True, parents=True)\n",
    "\n",
    "    det_results = det_model(data, stream=True, device=device)\n",
    "    out_res = []\n",
    "\n",
    "    for result in det_results:\n",
    "        class_ids = result.boxes.cls.int().tolist()  # noqa\n",
    "        if len(class_ids):\n",
    "            boxes = result.boxes.xyxy  # Boxes object for bbox outputs\n",
    "            sam_results = sam_model(result.orig_img, bboxes=boxes, verbose=False, save=True, device=device)\n",
    "            out_res.append((result, sam_results))\n",
    "            segments = sam_results[0].masks.xyn  # noqa\n",
    "\n",
    "            with open(f\"{Path(output_dir) / Path(result.path).stem}.txt\", \"w\") as f:\n",
    "                for i in range(len(segments)):\n",
    "                    s = segments[i]\n",
    "                    if len(s) == 0:\n",
    "                        continue\n",
    "                    segment = map(str, segments[i].reshape(-1).tolist())\n",
    "                    f.write(f\"{class_ids[i]} \" + \" \".join(segment) + \"\\n\")\n",
    "    \n",
    "    return out_res"
   ]
  },
  {
   "cell_type": "code",
   "execution_count": 9,
   "metadata": {},
   "outputs": [
    {
     "name": "stdout",
     "output_type": "stream",
     "text": [
      "\n",
      "image 1/1 /storage3/vadim/HTR-historical/data/processed/4 Segmenter test/text_segmenter/test/images/080951f6-13.png: 1024x704 40 texts, 29.5ms\n",
      "Results saved to \u001b[1m/storage3/vadim/HTR-historical/runs/segment/predict3\u001b[0m\n",
      "Speed: 2.8ms preprocess, 29.5ms inference, 0.7ms postprocess per image at shape (1, 3, 1024, 704)\n"
     ]
    }
   ],
   "source": [
    "res = auto_annotate(data=out[0], det_model=\"/storage3/vadim/HTR-historical/models/detector/best.pt\", sam_model=\"sam2_l.pt\", output_dir='out')"
   ]
  },
  {
   "cell_type": "code",
   "execution_count": 6,
   "metadata": {},
   "outputs": [
    {
     "ename": "NameError",
     "evalue": "name 'res' is not defined",
     "output_type": "error",
     "traceback": [
      "\u001b[0;31m---------------------------------------------------------------------------\u001b[0m",
      "\u001b[0;31mNameError\u001b[0m                                 Traceback (most recent call last)",
      "Cell \u001b[0;32mIn[6], line 1\u001b[0m\n\u001b[0;32m----> 1\u001b[0m \u001b[43mres\u001b[49m[\u001b[38;5;241m0\u001b[39m][\u001b[38;5;241m0\u001b[39m]\u001b[38;5;241m.\u001b[39msave()\n",
      "\u001b[0;31mNameError\u001b[0m: name 'res' is not defined"
     ]
    }
   ],
   "source": [
    "res[0][0].save()"
   ]
  },
  {
   "cell_type": "code",
   "execution_count": null,
   "metadata": {},
   "outputs": [],
   "source": []
  }
 ],
 "metadata": {
  "kernelspec": {
   "display_name": ".venv",
   "language": "python",
   "name": "python3"
  },
  "language_info": {
   "codemirror_mode": {
    "name": "ipython",
    "version": 3
   },
   "file_extension": ".py",
   "mimetype": "text/x-python",
   "name": "python",
   "nbconvert_exporter": "python",
   "pygments_lexer": "ipython3",
   "version": "3.11.9"
  }
 },
 "nbformat": 4,
 "nbformat_minor": 2
}
