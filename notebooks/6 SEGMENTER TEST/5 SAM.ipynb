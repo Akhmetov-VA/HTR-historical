{
 "cells": [
  {
   "cell_type": "code",
   "execution_count": null,
   "metadata": {},
   "outputs": [],
   "source": [
    "from ultralytics import SAM\n",
    "\n",
    "# Load a model\n",
    "model = SAM(\"sam2_b.pt\")\n",
    "\n",
    "# Display model information (optional)\n",
    "model.info()"
   ]
  },
  {
   "cell_type": "code",
   "execution_count": null,
   "metadata": {},
   "outputs": [],
   "source": [
    "import os\n",
    "path = \"/storage3/vadim/HTR-historical/data/processed/4 Segmenter test/text_segmenter/test/images/\"\n",
    "out = os.listdir(path)\n",
    "out = [path + name for name in out]"
   ]
  },
  {
   "cell_type": "code",
   "execution_count": null,
   "metadata": {},
   "outputs": [],
   "source": [
    "# Segment with bounding box prompt\n",
    "results = model(out[0])"
   ]
  },
  {
   "cell_type": "code",
   "execution_count": null,
   "metadata": {},
   "outputs": [],
   "source": [
    "results[0].save()"
   ]
  },
  {
   "cell_type": "code",
   "execution_count": null,
   "metadata": {},
   "outputs": [],
   "source": [
    "results"
   ]
  },
  {
   "cell_type": "code",
   "execution_count": null,
   "metadata": {},
   "outputs": [],
   "source": [
    "# Segment with point prompt\n",
    "results = model(\"path/to/image.jpg\", points=[150, 150], labels=[1])"
   ]
  },
  {
   "cell_type": "code",
   "execution_count": null,
   "metadata": {},
   "outputs": [],
   "source": [
    "from ultralytics.data.annotator import auto_annotate\n",
    "\n",
    "res = auto_annotate(data=out[0], det_model=\"/storage3/vadim/HTR-historical/runs/segment/train/weights/best.pt\", sam_model=\"sam2_b.pt\", output_dir='out')"
   ]
  },
  {
   "cell_type": "code",
   "execution_count": null,
   "metadata": {},
   "outputs": [],
   "source": []
  },
  {
   "cell_type": "code",
   "execution_count": null,
   "metadata": {},
   "outputs": [],
   "source": [
    "from pathlib import Path\n",
    "\n",
    "from ultralytics import SAM, YOLO\n",
    "\n",
    "def auto_annotate(data, det_model=\"yolov8x.pt\", sam_model=\"sam_b.pt\", device=\"\", output_dir=None):\n",
    "    \"\"\"\n",
    "    Automatically annotates images using a YOLO object detection model and a SAM segmentation model.\n",
    "\n",
    "    This function processes images in a specified directory, detects objects using a YOLO model, and then generates\n",
    "    segmentation masks using a SAM model. The resulting annotations are saved as text files.\n",
    "\n",
    "    Args:\n",
    "        data (str): Path to a folder containing images to be annotated.\n",
    "        det_model (str): Path or name of the pre-trained YOLO detection model.\n",
    "        sam_model (str): Path or name of the pre-trained SAM segmentation model.\n",
    "        device (str): Device to run the models on (e.g., 'cpu', 'cuda', '0').\n",
    "        output_dir (str | None): Directory to save the annotated results. If None, a default directory is created.\n",
    "\n",
    "    Examples:\n",
    "        >>> from ultralytics.data.annotator import auto_annotate\n",
    "        >>> auto_annotate(data=\"ultralytics/assets\", det_model=\"yolov8n.pt\", sam_model=\"mobile_sam.pt\")\n",
    "\n",
    "    Notes:\n",
    "        - The function creates a new directory for output if not specified.\n",
    "        - Annotation results are saved as text files with the same names as the input images.\n",
    "        - Each line in the output text file represents a detected object with its class ID and segmentation points.\n",
    "    \"\"\"\n",
    "    det_model = YOLO(det_model)\n",
    "    sam_model = SAM(sam_model)\n",
    "\n",
    "    data = Path(data)\n",
    "    if not output_dir:\n",
    "        output_dir = data.parent / f\"{data.stem}_auto_annotate_labels\"\n",
    "    Path(output_dir).mkdir(exist_ok=True, parents=True)\n",
    "\n",
    "    det_results = det_model(data, stream=True, device=device)\n",
    "    out_res = []\n",
    "\n",
    "    for result in det_results:\n",
    "        class_ids = result.boxes.cls.int().tolist()  # noqa\n",
    "        if len(class_ids):\n",
    "            boxes = result.boxes.xyxy  # Boxes object for bbox outputs\n",
    "            sam_results = sam_model(result.orig_img, bboxes=boxes, verbose=False, save=True, device=device)\n",
    "            out_res.append((result, sam_results))\n",
    "            segments = sam_results[0].masks.xyn  # noqa\n",
    "\n",
    "            with open(f\"{Path(output_dir) / Path(result.path).stem}.txt\", \"w\") as f:\n",
    "                for i in range(len(segments)):\n",
    "                    s = segments[i]\n",
    "                    if len(s) == 0:\n",
    "                        continue\n",
    "                    segment = map(str, segments[i].reshape(-1).tolist())\n",
    "                    f.write(f\"{class_ids[i]} \" + \" \".join(segment) + \"\\n\")\n",
    "    \n",
    "    return out_res"
   ]
  },
  {
   "cell_type": "code",
   "execution_count": null,
   "metadata": {},
   "outputs": [],
   "source": [
    "res = auto_annotate(data=out[0], det_model=\"/storage3/vadim/HTR-historical/models/detector/best.pt\", sam_model=\"sam2_l.pt\", output_dir='out')"
   ]
  },
  {
   "cell_type": "code",
   "execution_count": null,
   "metadata": {},
   "outputs": [],
   "source": [
    "res[0][0].save()"
   ]
  },
  {
   "cell_type": "code",
   "execution_count": null,
   "metadata": {},
   "outputs": [],
   "source": []
  }
 ],
 "metadata": {
  "kernelspec": {
   "display_name": ".venv",
   "language": "python",
   "name": "python3"
  },
  "language_info": {
   "codemirror_mode": {
    "name": "ipython",
    "version": 3
   },
   "file_extension": ".py",
   "mimetype": "text/x-python",
   "name": "python",
   "nbconvert_exporter": "python",
   "pygments_lexer": "ipython3",
   "version": "3.11.9"
  }
 },
 "nbformat": 4,
 "nbformat_minor": 2
}
