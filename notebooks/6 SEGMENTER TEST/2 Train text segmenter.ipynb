{
 "cells": [
  {
   "cell_type": "code",
   "execution_count": null,
   "id": "f3f9b8fde1378a60",
   "metadata": {
    "ExecuteTime": {
     "end_time": "2024-03-27T14:29:03.014809Z",
     "start_time": "2024-03-27T14:29:03.004694Z"
    },
    "collapsed": false
   },
   "outputs": [],
   "source": [
    "from ultralytics import YOLO"
   ]
  },
  {
   "cell_type": "code",
   "execution_count": null,
   "id": "31a256f5fdaf2d37",
   "metadata": {
    "ExecuteTime": {
     "end_time": "2024-03-27T14:29:06.816741Z",
     "start_time": "2024-03-27T14:29:04.273675Z"
    },
    "collapsed": false
   },
   "outputs": [],
   "source": [
    "# Можно так же попробовать модели побольше\n",
    "# https://docs.ultralytics.com/ru/tasks/segment/\n",
    "model = YOLO(\"yolov8n-seg.pt\")"
   ]
  },
  {
   "cell_type": "code",
   "execution_count": null,
   "id": "initial_id",
   "metadata": {
    "ExecuteTime": {
     "end_time": "2024-03-27T14:30:23.485498Z",
     "start_time": "2024-03-27T14:30:23.477873Z"
    },
    "collapsed": true
   },
   "outputs": [],
   "source": [
    "# если есть ClearML, то укажите свои настройки для логирования обучения детектора текста\n",
    "# с инструкцией, как поднять собственный ClearML, можно ознакомиться тут: https://github.com/allegroai/clearml-server\n",
    "%env CLEARML_WEB_HOST=http://localhost:8080/\n",
    "%env CLEARML_API_HOST=http://localhost:8008\n",
    "%env CLEARML_FILES_HOST=http://localhost:8081\n",
    "%env CLEARML_API_ACCESS_KEY=WG2IMTXQNYLFF3EF0WLE3ELFN3GFIV\n",
    "%env CLEARML_API_SECRET_KEY=92jRqgtIOZfCTe3jxLloiwXzoG4FJ-j9yt1ktXqB443fjWrfie9itCIjBmqetQ28b5c\n",
    "\n",
    "# заменить в данном data.yaml файле пути для train, valid и test, на абсолютные пути на вашем хосте\n",
    "data_yaml_path = \"../../data/processed/4 Segmenter test/data.yaml\""
   ]
  },
  {
   "cell_type": "code",
   "execution_count": null,
   "id": "1b18d6df9c7cc69",
   "metadata": {
    "ExecuteTime": {
     "end_time": "2024-03-27T14:32:05.713394Z",
     "start_time": "2024-03-27T14:31:10.940165Z"
    },
    "collapsed": false
   },
   "outputs": [],
   "source": [
    "# в ходе обучения будет создана директория runs, в которой будут храниться артефакты обучения\n",
    "# наилучшую модель можно будет найти в директории trains с самым большим порядковым номером, далее weights/best.pt\n",
    "results = model.train(data=data_yaml_path, epochs=300, imgsz=1540, device=\"cuda:0\")"
   ]
  },
  {
   "cell_type": "code",
   "execution_count": null,
   "id": "e61312c1",
   "metadata": {},
   "outputs": [],
   "source": [
    "import os\n",
    "path = \"/storage3/vadim/HTR-historical/data/processed/4 Segmenter test/text_segmenter/test/images/\"\n",
    "out = os.listdir(path)\n",
    "out = [path + name for name in out]"
   ]
  },
  {
   "cell_type": "code",
   "execution_count": null,
   "id": "62e165c0",
   "metadata": {},
   "outputs": [],
   "source": [
    "model = YOLO(\"/storage3/vadim/HTR-historical/runs/segment/train2/weights/best.pt\")"
   ]
  },
  {
   "cell_type": "code",
   "execution_count": null,
   "id": "7c30dc11",
   "metadata": {},
   "outputs": [],
   "source": [
    "results = model(out)  # return a list of Results objects\n",
    "\n",
    "# Process results list\n",
    "for i, result in enumerate(results):\n",
    "    boxes = result.boxes  # Boxes object for bounding box outputs\n",
    "    masks = result.masks  # Masks object for segmentation masks outputs\n",
    "    keypoints = result.keypoints  # Keypoints object for pose outputs\n",
    "    probs = result.probs  # Probs object for classification outputs\n",
    "    result.save(filename=f\"seg_test/result_{i}.jpg\")  # save to disk"
   ]
  },
  {
   "cell_type": "code",
   "execution_count": null,
   "id": "0a46bc2b",
   "metadata": {},
   "outputs": [],
   "source": []
  }
 ],
 "metadata": {
  "kernelspec": {
   "display_name": "Python 3",
   "language": "python",
   "name": "python3"
  },
  "language_info": {
   "codemirror_mode": {
    "name": "ipython",
    "version": 3
   },
   "file_extension": ".py",
   "mimetype": "text/x-python",
   "name": "python",
   "nbconvert_exporter": "python",
   "pygments_lexer": "ipython3",
   "version": "3.11.9"
  }
 },
 "nbformat": 4,
 "nbformat_minor": 5
}
