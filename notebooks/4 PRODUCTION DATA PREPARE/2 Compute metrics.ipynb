{
 "cells": [
  {
   "cell_type": "code",
   "execution_count": 1,
   "id": "initial_id",
   "metadata": {
    "ExecuteTime": {
     "end_time": "2024-03-14T15:00:40.163003Z",
     "start_time": "2024-03-14T15:00:40.155993Z"
    },
    "collapsed": true
   },
   "outputs": [],
   "source": [
    "from __future__ import annotations\n",
    "\n",
    "import os\n",
    "\n",
    "import numpy as np\n",
    "import pandas as pd\n",
    "import torch\n",
    "from PIL import Image, ImageOps\n",
    "from datasets import load_metric\n",
    "from tqdm.notebook import tqdm\n",
    "from transformers import (\n",
    "    VisionEncoderDecoderModel,\n",
    "    TrOCRProcessor\n",
    ")\n",
    "from ultralytics import YOLO"
   ]
  },
  {
   "cell_type": "code",
   "execution_count": 2,
   "id": "d15947033864af6d",
   "metadata": {
    "ExecuteTime": {
     "end_time": "2024-03-14T12:44:46.815960Z",
     "start_time": "2024-03-14T12:44:46.809976Z"
    },
    "collapsed": false
   },
   "outputs": [],
   "source": [
    "def seed_everything(seed_value):\n",
    "    np.random.seed(seed_value)\n",
    "    torch.manual_seed(seed_value)\n",
    "    torch.cuda.manual_seed_all(seed_value)\n",
    "    torch.backends.cudnn.deterministic = True\n",
    "    torch.backends.cudnn.benchmark = False\n",
    "\n",
    "seed_everything(42)\n",
    "device = torch.device('cuda:1' if torch.cuda.is_available() else 'cpu')\n",
    "# device = 'cpu'"
   ]
  },
  {
   "cell_type": "code",
   "execution_count": 3,
   "id": "a19570a706ccbd98",
   "metadata": {
    "ExecuteTime": {
     "end_time": "2024-03-14T15:14:41.580368Z",
     "start_time": "2024-03-14T15:14:41.562369Z"
    },
    "collapsed": false
   },
   "outputs": [],
   "source": [
    "class TextRecognizePipeline:\n",
    "    \n",
    "    def __init__(self):\n",
    "        self.ocr_processor = TrOCRProcessor.from_pretrained(\"raxtemur/trocr-base-ru\")\n",
    "        # self.ocr_model = VisionEncoderDecoderModel.from_pretrained(\"../../models/text_recognizer/trocr_ru_pretrain_3epoch/\", local_files_only=True).to(device)\n",
    "\n",
    "        # self.ocr_processor = TrOCRProcessor.from_pretrained(\"microsoft/trocr-small-handwritten\")\n",
    "        self.ocr_model = VisionEncoderDecoderModel.from_pretrained(\"../../models/text_recognizer/checkpoint-1152/\", local_files_only=True).to(device)\n",
    "        self.ocr_model.eval()\n",
    "        \n",
    "        # self.detection_model = YOLO(\"../../models/new_text_detector/best.pt\").to(device)\n",
    "        self.detection_model = YOLO(\"/media/admin01/storage1/vadim/Historical-docs-OCR/models/text_detector/best_1024.pt\").to(device)\n",
    "        self.iou_threshold = 0.7\n",
    "        \n",
    "        # metrics\n",
    "        self.iou_list = []\n",
    "        self.cer_list = []\n",
    "        self.wer_list = []\n",
    "        \n",
    "        # Set special tokens used for creating the decoder_input_ids from the labels.\n",
    "        self.ocr_model.config.decoder_start_token_id = self.ocr_processor.tokenizer.cls_token_id\n",
    "        self.ocr_model.config.pad_token_id = self.ocr_processor.tokenizer.pad_token_id\n",
    "        # Set Correct vocab size.\n",
    "        self.ocr_model.config.vocab_size = self.ocr_model.config.decoder.vocab_size\n",
    "        self.ocr_model.config.eos_token_id = self.ocr_processor.tokenizer.sep_token_id\n",
    "        \n",
    "        self.ocr_model.config.max_length = 64\n",
    "        self.ocr_model.config.early_stopping = True\n",
    "        self.ocr_model.config.no_repeat_ngram_size = 3\n",
    "        self.ocr_model.config.length_penalty = 2.0\n",
    "        self.ocr_model.config.num_beams = 4\n",
    "    \n",
    "    def get_detections_and_crop_boxes(self, img: Image) -> list[Image]:\n",
    "        \n",
    "        def sort_bbox_by_y(bbox_list):\n",
    "            sorted_bbox = sorted(bbox_list, key=lambda bbox: (bbox[1], bbox[0]))  # Сортировка по координате y, затем по x\n",
    "            return sorted_bbox\n",
    "        \n",
    "        result = []\n",
    "        for predict, image in zip(self.detection_model.predict([img], verbose=False), [img]):\n",
    "            bboxes = predict.boxes.xyxy.cpu().tolist()\n",
    "            sorted_bboxes = sort_bbox_by_y(bboxes)\n",
    "            for box in sorted_bboxes:\n",
    "                cropped_image = image.crop(box)\n",
    "                result.append(cropped_image.convert(\"RGB\"))\n",
    "        return result\n",
    "    \n",
    "    def get_ocr_predictions(self, img_list: list[Image]) -> list[str]:\n",
    "        with torch.no_grad():\n",
    "            pixel_values = self.ocr_processor(img_list, return_tensors=\"pt\").pixel_values.to(device)\n",
    "            generated_ids = self.ocr_model.generate(pixel_values)\n",
    "            generated_text = self.ocr_processor.batch_decode(generated_ids, skip_special_tokens=True)\n",
    "            \n",
    "        return generated_text\n",
    "    \n",
    "    def recognize(self, img_list: list[Image]) -> list[str]:\n",
    "        cropped_images = self.get_detections_and_crop_boxes(img_list)\n",
    "        recognized_text = self.get_ocr_predictions(cropped_images)\n",
    "        return recognized_text"
   ]
  },
  {
   "cell_type": "code",
   "execution_count": 4,
   "id": "665832d634a749c9",
   "metadata": {
    "ExecuteTime": {
     "end_time": "2024-03-14T15:14:42.607213Z",
     "start_time": "2024-03-14T15:14:42.601210Z"
    },
    "collapsed": false
   },
   "outputs": [],
   "source": [
    "import pathlib\n",
    "\n",
    "def get_rand_image():\n",
    "    path = pathlib.Path(\"../../data/processed/3 Production/text_detector/test/images\")\n",
    "    img_path = np.random.choice(list(path.iterdir()))\n",
    "    img = Image.open(img_path)\n",
    "    img = ImageOps.exif_transpose(img)\n",
    "    return img, img_path\n",
    "\n",
    "def get_label_text(data: pd.DataFrame, filename: str) -> list[str]:\n",
    "    return data[data[\"file_name\"].str.contains(filename)][\"text\"].to_list()\n",
    "\n",
    "def extract_filename(filename):\n",
    "    base_name, extension = os.path.splitext(filename)\n",
    "    parts = base_name.split(\"___\")\n",
    "    return parts[0] + extension\n",
    "\n",
    "def get_image(img_path: str | pathlib.Path) -> Image:\n",
    "    image = Image.open(img_path)\n",
    "    image = ImageOps.exif_transpose(image)\n",
    "    return image"
   ]
  },
  {
   "cell_type": "code",
   "execution_count": null,
   "id": "ce3a48ba",
   "metadata": {},
   "outputs": [],
   "source": []
  },
  {
   "cell_type": "code",
   "execution_count": 5,
   "id": "4d2c4ece25c3e1a5",
   "metadata": {
    "ExecuteTime": {
     "end_time": "2024-03-14T15:14:43.665427Z",
     "start_time": "2024-03-14T15:14:43.633421Z"
    },
    "collapsed": false
   },
   "outputs": [],
   "source": [
    "data = pd.read_csv(\"../../data/processed/3 Production/test.csv\", index_col=0)\n",
    "# data['file_name'] = data['file_name'].apply(lambda x: x.replace('.JPG', '.jpg'))\n",
    "\n",
    "# 0 - Губернаторские отчёты\n",
    "# 1 - Уставные грамоты – Афанасенков\n",
    "# 2 - Уставные грамоты в jpg (Просветов)\n",
    "# 3 - Победоносцев\n",
    "\n",
    "# отделяем губернаторские отчёты и уставные грамоты\n",
    "governors_reports = data[data[\"label\"] == 0]\n",
    "charter_letters = data[(data[\"label\"] == 1) | (data[\"label\"] == 2)]\n",
    "segment_annotation = data[data[\"label\"] == 3]"
   ]
  },
  {
   "cell_type": "code",
   "execution_count": 6,
   "id": "8a858755",
   "metadata": {},
   "outputs": [
    {
     "data": {
      "text/plain": [
       "array([0, 1, 2, 3])"
      ]
     },
     "execution_count": 6,
     "metadata": {},
     "output_type": "execute_result"
    }
   ],
   "source": [
    "data['label'].unique()"
   ]
  },
  {
   "cell_type": "code",
   "execution_count": 7,
   "id": "96c09d2fb31e851c",
   "metadata": {
    "ExecuteTime": {
     "end_time": "2024-03-14T15:14:55.131232Z",
     "start_time": "2024-03-14T15:14:46.265664Z"
    },
    "collapsed": false
   },
   "outputs": [
    {
     "name": "stderr",
     "output_type": "stream",
     "text": [
      "/tmp/ipykernel_3904985/3705093783.py:3: FutureWarning: load_metric is deprecated and will be removed in the next major version of datasets. Use 'evaluate.load' instead, from the new library 🤗 Evaluate: https://huggingface.co/docs/evaluate\n",
      "  cer_metric = load_metric(\"cer\", trust_remote_code=True)\n"
     ]
    }
   ],
   "source": [
    "ocr_pipeline = TextRecognizePipeline()\n",
    "\n",
    "cer_metric = load_metric(\"cer\", trust_remote_code=True)\n",
    "wer_metric = load_metric(\"wer\", trust_remote_code=True)"
   ]
  },
  {
   "cell_type": "markdown",
   "id": "da3b3d3d62f5f5e7",
   "metadata": {
    "collapsed": false
   },
   "source": [
    "#### Подсчёт CER/WER для губернаторских отчётов"
   ]
  },
  {
   "cell_type": "code",
   "execution_count": 8,
   "id": "637bb145a8289156",
   "metadata": {
    "collapsed": false
   },
   "outputs": [
    {
     "name": "stderr",
     "output_type": "stream",
     "text": [
      "/tmp/ipykernel_3904985/2217891385.py:1: SettingWithCopyWarning: \n",
      "A value is trying to be set on a copy of a slice from a DataFrame.\n",
      "Try using .loc[row_indexer,col_indexer] = value instead\n",
      "\n",
      "See the caveats in the documentation: https://pandas.pydata.org/pandas-docs/stable/user_guide/indexing.html#returning-a-view-versus-a-copy\n",
      "  governors_reports[\"file_name\"] = governors_reports[\"file_name\"].apply(extract_filename)\n"
     ]
    }
   ],
   "source": [
    "governors_reports[\"file_name\"] = governors_reports[\"file_name\"].apply(extract_filename)\n",
    "filenames = list(governors_reports.file_name.unique())"
   ]
  },
  {
   "cell_type": "code",
   "execution_count": 9,
   "id": "6cec190014e66a8b",
   "metadata": {
    "ExecuteTime": {
     "end_time": "2024-03-14T15:15:48.512036Z",
     "start_time": "2024-03-14T15:14:58.588703Z"
    },
    "collapsed": false
   },
   "outputs": [
    {
     "data": {
      "application/vnd.jupyter.widget-view+json": {
       "model_id": "ed4d839a80f04d24b1823ccde26a3080",
       "version_major": 2,
       "version_minor": 0
      },
      "text/plain": [
       "  0%|          | 0/298 [00:00<?, ?it/s]"
      ]
     },
     "metadata": {},
     "output_type": "display_data"
    },
    {
     "name": "stdout",
     "output_type": "stream",
     "text": [
      "CER: 0.08646262894234258 | WER: 0.2559889583773403\n"
     ]
    }
   ],
   "source": [
    "image_root_path = pathlib.Path(\"../../data/processed/3 Production/text_detector/test/images\")\n",
    "\n",
    "cer = []\n",
    "wer = []\n",
    "\n",
    "for filename in tqdm(filenames, total=len(filenames)):\n",
    "    file_path = image_root_path / pathlib.Path(filename)\n",
    "    \n",
    "    if not os.path.exists(file_path):\n",
    "        file_path = image_root_path / pathlib.Path(filename.replace('.JPG', '.jpg'))\n",
    "        \n",
    "    img = get_image(file_path)\n",
    "        \n",
    "    pred_text = ocr_pipeline.recognize(img)\n",
    "    pred_text = \" \".join(pred_text)\n",
    "    \n",
    "    label_text = get_label_text(governors_reports, filename)\n",
    "    label_text = \" \".join(label_text)\n",
    "    \n",
    "    cer.append(\n",
    "        cer_metric.compute(predictions=[pred_text], \n",
    "                           references=[label_text])\n",
    "    )\n",
    "    \n",
    "    wer.append(\n",
    "        wer_metric.compute(predictions=[pred_text], \n",
    "                           references=[label_text])\n",
    "    )\n",
    "\n",
    "print(f\"CER: {np.mean(cer)} | WER: {np.mean(wer)}\")"
   ]
  },
  {
   "cell_type": "markdown",
   "id": "d0601357b38dca76",
   "metadata": {
    "collapsed": false
   },
   "source": [
    "#### Подсчёт CER/WER для отчётных грамот"
   ]
  },
  {
   "cell_type": "code",
   "execution_count": 10,
   "id": "31efa7743cbef235",
   "metadata": {
    "collapsed": false
   },
   "outputs": [
    {
     "name": "stderr",
     "output_type": "stream",
     "text": [
      "/tmp/ipykernel_3904985/1796841258.py:1: SettingWithCopyWarning: \n",
      "A value is trying to be set on a copy of a slice from a DataFrame.\n",
      "Try using .loc[row_indexer,col_indexer] = value instead\n",
      "\n",
      "See the caveats in the documentation: https://pandas.pydata.org/pandas-docs/stable/user_guide/indexing.html#returning-a-view-versus-a-copy\n",
      "  charter_letters[\"file_name\"] = charter_letters[\"file_name\"].apply(extract_filename)\n"
     ]
    }
   ],
   "source": [
    "charter_letters[\"file_name\"] = charter_letters[\"file_name\"].apply(extract_filename)\n",
    "filenames = list(charter_letters.file_name.unique())"
   ]
  },
  {
   "cell_type": "code",
   "execution_count": 11,
   "id": "afd4c6fef8aa7af8",
   "metadata": {
    "ExecuteTime": {
     "end_time": "2024-03-14T15:20:33.242025Z",
     "start_time": "2024-03-14T15:19:47.844191Z"
    },
    "collapsed": false
   },
   "outputs": [
    {
     "data": {
      "application/vnd.jupyter.widget-view+json": {
       "model_id": "bc62bf683ef94578902c899609be80c8",
       "version_major": 2,
       "version_minor": 0
      },
      "text/plain": [
       "  0%|          | 0/59 [00:00<?, ?it/s]"
      ]
     },
     "metadata": {},
     "output_type": "display_data"
    },
    {
     "name": "stdout",
     "output_type": "stream",
     "text": [
      "CER: 0.12972285992238589 | WER: 0.37622438091415655\n"
     ]
    }
   ],
   "source": [
    "image_root_path = pathlib.Path(\"../../data/processed/3 Production/text_detector/test/images\")\n",
    "\n",
    "cer = []\n",
    "wer = []\n",
    "\n",
    "for filename in tqdm(filenames, total=len(filenames)):\n",
    "    file_path = image_root_path / pathlib.Path(filename)\n",
    "    \n",
    "    if not os.path.exists(file_path):\n",
    "        file_path = image_root_path / pathlib.Path(filename.replace('.JPG', '.jpg'))\n",
    "    \n",
    "    img = get_image(file_path)\n",
    "        \n",
    "    pred_text = ocr_pipeline.recognize(img)\n",
    "    pred_text = \" \".join(pred_text)\n",
    "    \n",
    "    label_text = get_label_text(charter_letters, filename)\n",
    "    label_text = \" \".join(label_text)\n",
    "    \n",
    "    cer.append(\n",
    "        cer_metric.compute(predictions=[pred_text], references=[label_text])\n",
    "    )\n",
    "    \n",
    "    wer.append(\n",
    "        wer_metric.compute(predictions=[pred_text], references=[label_text])\n",
    "    )\n",
    "    \n",
    "print(f\"CER: {np.mean(cer)} | WER: {np.mean(wer)}\")"
   ]
  },
  {
   "cell_type": "markdown",
   "id": "2301bad6",
   "metadata": {},
   "source": [
    "Подсчёт CER/WER для 'Победоносцев' (резметка сегментами)"
   ]
  },
  {
   "cell_type": "code",
   "execution_count": 12,
   "id": "27300096",
   "metadata": {},
   "outputs": [
    {
     "name": "stderr",
     "output_type": "stream",
     "text": [
      "/tmp/ipykernel_3904985/4162330369.py:1: SettingWithCopyWarning: \n",
      "A value is trying to be set on a copy of a slice from a DataFrame.\n",
      "Try using .loc[row_indexer,col_indexer] = value instead\n",
      "\n",
      "See the caveats in the documentation: https://pandas.pydata.org/pandas-docs/stable/user_guide/indexing.html#returning-a-view-versus-a-copy\n",
      "  segment_annotation[\"file_name\"] = segment_annotation[\"file_name\"].apply(extract_filename)\n"
     ]
    }
   ],
   "source": [
    "segment_annotation[\"file_name\"] = segment_annotation[\"file_name\"].apply(extract_filename)\n",
    "filenames = list(segment_annotation.file_name.unique())"
   ]
  },
  {
   "cell_type": "code",
   "execution_count": 13,
   "id": "098827f4",
   "metadata": {},
   "outputs": [
    {
     "data": {
      "application/vnd.jupyter.widget-view+json": {
       "model_id": "db4b691542d5427cb4f540b1f05cae42",
       "version_major": 2,
       "version_minor": 0
      },
      "text/plain": [
       "  0%|          | 0/9 [00:00<?, ?it/s]"
      ]
     },
     "metadata": {},
     "output_type": "display_data"
    },
    {
     "name": "stdout",
     "output_type": "stream",
     "text": [
      "CER: 0.4731776838193206 | WER: 0.7276771050396693\n"
     ]
    }
   ],
   "source": [
    "image_root_path = pathlib.Path(\"../../data/processed/3 Production/text_detector/test/images\")\n",
    "\n",
    "cer = []\n",
    "wer = []\n",
    "\n",
    "for filename in tqdm(filenames, total=len(filenames)):\n",
    "    file_path = image_root_path / pathlib.Path(filename)\n",
    "    img = get_image(file_path)\n",
    "    \n",
    "    pred_text = ocr_pipeline.recognize(img)\n",
    "    pred_text = \" \".join(pred_text)\n",
    "    \n",
    "    label_text = get_label_text(segment_annotation, filename)\n",
    "    label_text = \" \".join(label_text)\n",
    "    \n",
    "    cer.append(\n",
    "        cer_metric.compute(predictions=[pred_text], references=[label_text])\n",
    "    )\n",
    "    \n",
    "    wer.append(\n",
    "        wer_metric.compute(predictions=[pred_text], references=[label_text])\n",
    "    )\n",
    "\n",
    "print(f\"CER: {np.mean(cer)} | WER: {np.mean(wer)}\")"
   ]
  },
  {
   "cell_type": "code",
   "execution_count": 23,
   "id": "c594a0b0",
   "metadata": {},
   "outputs": [
    {
     "data": {
      "text/plain": [
       "PosixPath('../../data/processed/3 Production/text_detector/test/images/c6d63ae5-15.png')"
      ]
     },
     "execution_count": 23,
     "metadata": {},
     "output_type": "execute_result"
    }
   ],
   "source": [
    "file_path"
   ]
  },
  {
   "cell_type": "code",
   "execution_count": 21,
   "id": "6ed1565c",
   "metadata": {},
   "outputs": [
    {
     "data": {
      "text/plain": [
       "'1866. Въ Декабре, 2 числа, началъ, по желанiю Императрицы, занятiя съ цесаревной рускою исторiей Преобладанiе Гр П. А. Шувалова. Графъ Паленъ – министръ юстицi. 1867. Апрель. Пасха въ Москве, съ Катеи. 6 Iюня. Едемъ на лето въ Гомель, съ Софьей Никоноровной, съ Соничкой и Володей. 17 авг. уезжаемъ обратно 28 августа – до 3 сент. я въ Москве, один. но вскоре уехалъ туда снова, съ Катей. + 6 Сентября скончалась милая маменька. Похоронили ее 9 числа на Ваганькове! 15 Сент. страшная смерть Чивилева въ Ц. Селе. Занятiя съ В. К. Владимiромъ Александровичемъ. 22 окт. свадьба племянницы – Машеньки асеевой. + 19 ноября. Митроп. Московскiй Филаретъ 24 Ноября.– 27. Ездилъ съ В. К. Владимiромъ въ Москву на отпеванiе митрополита. Занятiя съ цесаревичемъ остановились, по воз вращенiи его изъ заграницы. 1868. вечера у Кн. в. п. Мещерского съ цесаревичемъ. Исторiя о голоде въ арханг. губ. – Комитетъ. 26 Янв. возобновл. занятiя съ цесаревной. Мерз. Тимашевъ переселъ на место Валуева. Я назначенъ Сенаторомъ и началъ присутство вать во 2 Д-те. 26 Марта. Выходитъ въ светъ 1 т. моего курса гражд. права. Страстная и 1и д. Пасхи въ Сергiевой пустын Норовъ и А. Н. Муравьевъ. Ипотечная Коммиссiя. Апрель. Кончилъ занятiя съ В. К. Владимиромъ Родился у цесаревича Николай Александровъ въ Iюле – первыя поездки заграницу, черезъ Варшаву и Берлинъ, и Парижъ и Лондонъ, на о-въ Вайтъ. – Шенклинъ. На обратномъ  Пути черезъ Ломжу – возвращаемся 1 Сентября. Переехали на Спасскую ул. д. Дементьева'"
      ]
     },
     "execution_count": 21,
     "metadata": {},
     "output_type": "execute_result"
    }
   ],
   "source": [
    "label_text"
   ]
  },
  {
   "cell_type": "code",
   "execution_count": 20,
   "id": "887fef60",
   "metadata": {},
   "outputs": [
    {
     "data": {
      "text/plain": [
       "'Въ декабрь, 2 числа, ничасть, пожеланiю Императрицы, за съ цесаревной русскою исторчей Преоблюдате де П. А. Шувалова. Постъ Полянъ – Министръ юстицы. Апрель. Пана въ Москве, съкатею 6 Iюня: Вдень на поэтовъ Гансонъ, съ сажей Никоноровной съ соничкой и Еголовей. 17 авг. уезжаемъ обротила 28 августа – до 3 Сент. я въ Москве, одинъ, На вскоре уехалъ туда снова, съ Кате † 6 Сентября скончалась милая моненька Покорники ее 9 число на Ваганькове. 15 Сент. строенная Смерть Чивикеевъ въ ц. Силет Занятiя съ В. К. Владимира Александровичемъ. 22 окт. свадьба плетянинцы. Мошеньки сельскiй † 19 ноября. Минирал. московскiй фелоратъ 24 ноября. Уездалъ съ В. К. Владимиромъ 6 Москве, но по отзыванiе митрополита. Занятiя съ цесаревичемъ остановились, по во вращенiй его изъ за границы. вечера у Кн. в. П. Мещерскаго съ Цесаревичамъ Исторiя о голоде въ арханъ. губ. – Комитетъ 26 Iюня. возобновл. занятiя съ цесаревной Март. Тимошевъ потоколь на симъ Я Пораже Сенаторомъ и ничасы присутств вать во 22–ть 16 Марта. Выходить въ светъ (Т. масса курса 1 рожд права Страстине и 1го. д. Паска въ Сергеевой кубенъ Нарован а. Н. Муравьева. Ипотечная Коммиссiя. Апрель. Кончила занятiя съ К. владимиром Родился уцесаревича Николай Александров въ Iюне – первая поездка за границу, чередъ Варшаву и берлинъ, он партиеи Лондоне. на О- въ Кантъ. Шенклинъ, на обротной пути черезъ Ломжу – воздращается 1 Сентября на Спасскую ул. д. Дементьевъ переехали'"
      ]
     },
     "execution_count": 20,
     "metadata": {},
     "output_type": "execute_result"
    }
   ],
   "source": [
    "pred_text"
   ]
  },
  {
   "cell_type": "code",
   "execution_count": 26,
   "id": "d634878f",
   "metadata": {},
   "outputs": [
    {
     "data": {
      "text/plain": [
       "label\n",
       "0    6101\n",
       "1     720\n",
       "2     595\n",
       "3     326\n",
       "Name: count, dtype: int64"
      ]
     },
     "execution_count": 26,
     "metadata": {},
     "output_type": "execute_result"
    }
   ],
   "source": [
    "data.groupby('label')['label'].value_counts()"
   ]
  },
  {
   "cell_type": "markdown",
   "id": "29965b2d",
   "metadata": {},
   "source": [
    "#TODO: Добавить выгрузку по bbox распознавание + разметка"
   ]
  },
  {
   "cell_type": "code",
   "execution_count": 27,
   "id": "d3f8c7a6",
   "metadata": {},
   "outputs": [
    {
     "data": {
      "text/html": [
       "<div>\n",
       "<style scoped>\n",
       "    .dataframe tbody tr th:only-of-type {\n",
       "        vertical-align: middle;\n",
       "    }\n",
       "\n",
       "    .dataframe tbody tr th {\n",
       "        vertical-align: top;\n",
       "    }\n",
       "\n",
       "    .dataframe thead th {\n",
       "        text-align: right;\n",
       "    }\n",
       "</style>\n",
       "<table border=\"1\" class=\"dataframe\">\n",
       "  <thead>\n",
       "    <tr style=\"text-align: right;\">\n",
       "      <th></th>\n",
       "      <th>file_name</th>\n",
       "      <th>text</th>\n",
       "      <th>label</th>\n",
       "    </tr>\n",
       "  </thead>\n",
       "  <tbody>\n",
       "    <tr>\n",
       "      <th>0</th>\n",
       "      <td>909ccbb0-18.png</td>\n",
       "      <td>Начало общества у В.К. Константина. Отделъ Общ...</td>\n",
       "      <td>3</td>\n",
       "    </tr>\n",
       "    <tr>\n",
       "      <th>1</th>\n",
       "      <td>909ccbb0-18.png</td>\n",
       "      <td>Валуевъ – М-ръ Госуд. имуществъ.</td>\n",
       "      <td>3</td>\n",
       "    </tr>\n",
       "    <tr>\n",
       "      <th>2</th>\n",
       "      <td>909ccbb0-18.png</td>\n",
       "      <td>20 мая. Поездка съ Катей и Соничкой черезъ Москву</td>\n",
       "      <td>3</td>\n",
       "    </tr>\n",
       "    <tr>\n",
       "      <th>3</th>\n",
       "      <td>909ccbb0-18.png</td>\n",
       "      <td>въ Смоленскъ. у а. в. шевандиной и у Дiодора</td>\n",
       "      <td>3</td>\n",
       "    </tr>\n",
       "    <tr>\n",
       "      <th>4</th>\n",
       "      <td>909ccbb0-18.png</td>\n",
       "      <td>въ Александровскомъ. вернулись 1 Iюня.</td>\n",
       "      <td>3</td>\n",
       "    </tr>\n",
       "    <tr>\n",
       "      <th>...</th>\n",
       "      <td>...</td>\n",
       "      <td>...</td>\n",
       "      <td>...</td>\n",
       "    </tr>\n",
       "    <tr>\n",
       "      <th>321</th>\n",
       "      <td>c6d63ae5-15.png</td>\n",
       "      <td>Варшаву и Берлинъ, и Парижъ и Лондонъ,</td>\n",
       "      <td>3</td>\n",
       "    </tr>\n",
       "    <tr>\n",
       "      <th>322</th>\n",
       "      <td>c6d63ae5-15.png</td>\n",
       "      <td>на о-въ Вайтъ. – Шенклинъ. На обратномъ</td>\n",
       "      <td>3</td>\n",
       "    </tr>\n",
       "    <tr>\n",
       "      <th>323</th>\n",
       "      <td>c6d63ae5-15.png</td>\n",
       "      <td>Пути черезъ Ломжу – возвращаемся</td>\n",
       "      <td>3</td>\n",
       "    </tr>\n",
       "    <tr>\n",
       "      <th>324</th>\n",
       "      <td>c6d63ae5-15.png</td>\n",
       "      <td>1 Сентября.</td>\n",
       "      <td>3</td>\n",
       "    </tr>\n",
       "    <tr>\n",
       "      <th>325</th>\n",
       "      <td>c6d63ae5-15.png</td>\n",
       "      <td>Переехали на Спасскую ул. д. Дементьева</td>\n",
       "      <td>3</td>\n",
       "    </tr>\n",
       "  </tbody>\n",
       "</table>\n",
       "<p>326 rows × 3 columns</p>\n",
       "</div>"
      ],
      "text/plain": [
       "           file_name                                               text  label\n",
       "0    909ccbb0-18.png  Начало общества у В.К. Константина. Отделъ Общ...      3\n",
       "1    909ccbb0-18.png                   Валуевъ – М-ръ Госуд. имуществъ.      3\n",
       "2    909ccbb0-18.png  20 мая. Поездка съ Катей и Соничкой черезъ Москву      3\n",
       "3    909ccbb0-18.png       въ Смоленскъ. у а. в. шевандиной и у Дiодора      3\n",
       "4    909ccbb0-18.png             въ Александровскомъ. вернулись 1 Iюня.      3\n",
       "..               ...                                                ...    ...\n",
       "321  c6d63ae5-15.png             Варшаву и Берлинъ, и Парижъ и Лондонъ,      3\n",
       "322  c6d63ae5-15.png           на о-въ Вайтъ. – Шенклинъ. На обратномъ       3\n",
       "323  c6d63ae5-15.png                   Пути черезъ Ломжу – возвращаемся      3\n",
       "324  c6d63ae5-15.png                                        1 Сентября.      3\n",
       "325  c6d63ae5-15.png            Переехали на Спасскую ул. д. Дементьева      3\n",
       "\n",
       "[326 rows x 3 columns]"
      ]
     },
     "execution_count": 27,
     "metadata": {},
     "output_type": "execute_result"
    }
   ],
   "source": [
    "segment_annotation"
   ]
  },
  {
   "cell_type": "code",
   "execution_count": null,
   "id": "ebd6ce25",
   "metadata": {},
   "outputs": [],
   "source": []
  }
 ],
 "metadata": {
  "kernelspec": {
   "display_name": "Python 3",
   "language": "python",
   "name": "python3"
  },
  "language_info": {
   "codemirror_mode": {
    "name": "ipython",
    "version": 3
   },
   "file_extension": ".py",
   "mimetype": "text/x-python",
   "name": "python",
   "nbconvert_exporter": "python",
   "pygments_lexer": "ipython3",
   "version": "3.10.12"
  }
 },
 "nbformat": 4,
 "nbformat_minor": 5
}
