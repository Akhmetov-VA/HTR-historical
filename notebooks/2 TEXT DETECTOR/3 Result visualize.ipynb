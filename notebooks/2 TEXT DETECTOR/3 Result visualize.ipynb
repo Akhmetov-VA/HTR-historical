{
 "cells": [
  {
   "cell_type": "code",
   "execution_count": 1,
   "id": "initial_id",
   "metadata": {
    "collapsed": true,
    "ExecuteTime": {
     "end_time": "2024-02-21T14:27:39.648526800Z",
     "start_time": "2024-02-21T14:27:25.166481200Z"
    }
   },
   "outputs": [],
   "source": [
    "import torch\n",
    "from PIL import Image, ImageOps\n",
    "from ultralytics import YOLO"
   ]
  },
  {
   "cell_type": "code",
   "outputs": [],
   "source": [
    "device = \"cuda\" if torch.cuda.is_available() else \"cpu\"\n",
    "text_detector = YOLO(\"../../models/text_detector/text_detector.pt\").to(device)\n",
    "print(f\"Selected device: {device}\")"
   ],
   "metadata": {
    "collapsed": false
   },
   "id": "95ca78d4e212de0c",
   "execution_count": null
  },
  {
   "cell_type": "code",
   "outputs": [],
   "source": [
    "img = Image.open(r\"../../data/raw/Распознавание текстов/Уставные грамоты в jpg (Просветов)/11227024_doc1.jpg\")\n",
    "img = ImageOps.exif_transpose(img)\n",
    "\n",
    "res = text_detector.predict([img])\n",
    "\n",
    "# Process results list\n",
    "for result in res:\n",
    "    boxes = result.boxes  # Boxes object for bounding box outputs\n",
    "    masks = result.masks  # Masks object for segmentation masks outputs\n",
    "    keypoints = result.keypoints  # Keypoints object for pose outputs\n",
    "    probs = result.probs  # Probs object for classification outputs\n",
    "    result.show()  # display to screen"
   ],
   "metadata": {
    "collapsed": false
   },
   "id": "9f8c64dcc4e4bde9",
   "execution_count": null
  }
 ],
 "metadata": {
  "kernelspec": {
   "display_name": "Python 3",
   "language": "python",
   "name": "python3"
  },
  "language_info": {
   "codemirror_mode": {
    "name": "ipython",
    "version": 2
   },
   "file_extension": ".py",
   "mimetype": "text/x-python",
   "name": "python",
   "nbconvert_exporter": "python",
   "pygments_lexer": "ipython2",
   "version": "2.7.6"
  }
 },
 "nbformat": 4,
 "nbformat_minor": 5
}
