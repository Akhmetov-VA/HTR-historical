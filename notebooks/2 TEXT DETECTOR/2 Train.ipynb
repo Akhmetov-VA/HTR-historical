{
 "cells": [
  {
   "cell_type": "code",
   "execution_count": 1,
   "id": "initial_id",
   "metadata": {
    "collapsed": true,
    "ExecuteTime": {
     "end_time": "2024-02-20T22:37:20.871868600Z",
     "start_time": "2024-02-20T22:37:14.833383600Z"
    }
   },
   "outputs": [],
   "source": [
    "from ultralytics import YOLO"
   ]
  },
  {
   "cell_type": "code",
   "outputs": [],
   "source": [
    "model = YOLO(\"yolov8l.pt\")"
   ],
   "metadata": {
    "collapsed": false
   },
   "id": "ca43962caf9d543",
   "execution_count": null
  },
  {
   "cell_type": "code",
   "outputs": [],
   "source": [
    "# если есть ClearML, то укажите свои настройки для логирования обучения детектора текста\n",
    "# с инструкцией, как поднять собственный ClearML, можно ознакомиться тут: https://github.com/allegroai/clearml-server \n",
    "%env CLEARML_WEB_HOST=http://localhost:8080\n",
    "%env CLEARML_API_HOST=http://localhost:8008\n",
    "%env CLEARML_FILES_HOST=http://localhost:8081\n",
    "%env CLEARML_API_ACCESS_KEY=DD9IKFANSPFSNMELXRK9\n",
    "%env CLEARML_API_SECRET_KEY=1MYF9MA9c1nLRZbQGf0a6WR9XiHoTROabgryNkp0lPNZE7CS1l"
   ],
   "metadata": {
    "collapsed": false
   },
   "id": "f3c4318f0921ab55",
   "execution_count": null
  },
  {
   "cell_type": "code",
   "outputs": [],
   "source": [
    "# заменить в данном data.yaml файле пути для train, valid и test, на абсолютные пути на вашем хосте\n",
    "data_yaml_path = \"../../data/processed/for YOLO detector/data.yaml\"\n",
    "\n",
    "# в ходе обучения будет создана директория runs, в которой будут храниться артефакты обучения\n",
    "# наилучшую модель можно будет найти в директории trains с самым большим порядковым номером, далее weights/best.pt\n",
    "results = model.train(data=data_yaml_path, epochs=300, imgsz=640, device=\"cuda\")"
   ],
   "metadata": {
    "collapsed": false
   },
   "id": "a2e8fee0c673a7d",
   "execution_count": null
  }
 ],
 "metadata": {
  "kernelspec": {
   "display_name": "Python 3",
   "language": "python",
   "name": "python3"
  },
  "language_info": {
   "codemirror_mode": {
    "name": "ipython",
    "version": 2
   },
   "file_extension": ".py",
   "mimetype": "text/x-python",
   "name": "python",
   "nbconvert_exporter": "python",
   "pygments_lexer": "ipython2",
   "version": "2.7.6"
  }
 },
 "nbformat": 4,
 "nbformat_minor": 5
}
