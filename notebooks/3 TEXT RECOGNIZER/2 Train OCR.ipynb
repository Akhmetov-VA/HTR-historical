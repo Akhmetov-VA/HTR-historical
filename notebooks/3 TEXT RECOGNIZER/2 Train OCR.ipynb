{
 "cells": [
  {
   "cell_type": "code",
   "execution_count": null,
   "id": "initial_id",
   "metadata": {
    "ExecuteTime": {
     "end_time": "2024-02-22T00:18:41.460110900Z",
     "start_time": "2024-02-22T00:18:41.437588300Z"
    },
    "collapsed": true
   },
   "outputs": [],
   "source": [
    "import os\n",
    "from dataclasses import dataclass\n",
    "from tqdm import tqdm\n",
    "\n",
    "import numpy as np\n",
    "import pandas as pd\n",
    "import torch\n",
    "import torch.optim as optim\n",
    "import torchvision.transforms as transforms\n",
    "from PIL import Image\n",
    "from datasets import load_metric\n",
    "from torch.utils.data import Dataset\n",
    "from transformers import (\n",
    "    VisionEncoderDecoderModel,\n",
    "    TrOCRProcessor,\n",
    "    Seq2SeqTrainer,\n",
    "    Seq2SeqTrainingArguments,\n",
    "    default_data_collator\n",
    ")"
   ]
  },
  {
   "cell_type": "code",
   "execution_count": null,
   "id": "b5aa94b8b4378922",
   "metadata": {
    "ExecuteTime": {
     "end_time": "2024-02-22T00:18:41.461111400Z",
     "start_time": "2024-02-22T00:18:41.447110600Z"
    },
    "collapsed": false
   },
   "outputs": [],
   "source": [
    "def seed_everything(seed_value):\n",
    "    np.random.seed(seed_value)\n",
    "    torch.manual_seed(seed_value)\n",
    "    torch.cuda.manual_seed_all(seed_value)\n",
    "    torch.backends.cudnn.deterministic = True\n",
    "    torch.backends.cudnn.benchmark = False\n",
    "\n",
    "seed_everything(42)\n",
    "\n",
    "device = torch.device('cuda:1' if torch.cuda.is_available() else 'cpu')"
   ]
  },
  {
   "cell_type": "code",
   "execution_count": null,
   "id": "322468a5c9ba8255",
   "metadata": {
    "ExecuteTime": {
     "end_time": "2024-02-22T00:18:41.477111Z",
     "start_time": "2024-02-22T00:18:41.462111900Z"
    },
    "collapsed": false
   },
   "outputs": [],
   "source": [
    "@dataclass(frozen=True)\n",
    "class TrainingConfig:\n",
    "    BATCH_SIZE: int = 32\n",
    "    EPOCHS: int = 5\n",
    "    LEARNING_RATE: float = 0.00005\n",
    "\n",
    "@dataclass(frozen=True)\n",
    "class DatasetConfig:\n",
    "    # DATA_ROOT: str = '../../data/processed/2 For OCR'\n",
    "    DATA_ROOT: str = '/media/admin01/storage1/vadim/Historical-docs-OCR/data/processed/3 Production'\n",
    "\n",
    "\n",
    "@dataclass(frozen=True)\n",
    "class ModelConfig:\n",
    "    # MODEL_NAME: str = 'microsoft/trocr-small-printed'\n",
    "    # MODEL_NAME: str = 'microsoft/trocr-small-handwritten'\n",
    "    MODEL_NAME: str = 'raxtemur/trocr-base-ru'\n",
    "    # MODEL_NAME: str = 'microsoft/trocr-small-stage1'\n"
   ]
  },
  {
   "cell_type": "code",
   "execution_count": null,
   "id": "cc4c315fe44e5677",
   "metadata": {
    "ExecuteTime": {
     "end_time": "2024-02-22T00:21:25.745892Z",
     "start_time": "2024-02-22T00:21:25.678927600Z"
    },
    "collapsed": false
   },
   "outputs": [],
   "source": [
    "train_df = pd.read_csv(\n",
    "    os.path.join(DatasetConfig.DATA_ROOT, 'train.csv'), index_col=0\n",
    ")\n",
    "\n",
    "valid_df = pd.read_csv(\n",
    "    os.path.join(DatasetConfig.DATA_ROOT, 'valid.csv'), index_col=0\n",
    ")\n",
    "\n",
    "test_df = pd.read_csv(\n",
    "    os.path.join(DatasetConfig.DATA_ROOT, 'test.csv'), index_col=0\n",
    "    )\n",
    "\n",
    "train_df.dropna(inplace=True)\n",
    "valid_df.dropna(inplace=True)\n",
    "test_df.dropna(inplace=True)\n",
    "\n",
    "train_df = train_df[train_df['text'] != 'unlabelled']\n",
    "valid_df = valid_df[valid_df['text'] != 'unlabelled']\n",
    "test_df = test_df[test_df['text'] != 'unlabelled']\n",
    "\n",
    "train_df = train_df[train_df['text'] != '.']\n",
    "valid_df = valid_df[valid_df['text'] != '.']\n",
    "test_df = test_df[test_df['text'] != '.']\n",
    "\n",
    "f\"Размер обучающей выборки: {len(train_df)} | Размер валидационной выборки: {len(valid_df)} | Размер тестовой выборки: {len(test_df)}\""
   ]
  },
  {
   "cell_type": "code",
   "execution_count": null,
   "id": "69209a08",
   "metadata": {},
   "outputs": [],
   "source": [
    "def find_bad_imgs(root_dir, train_df):\n",
    "    bad = []\n",
    "    for idx in tqdm(range(len(train_df))):\n",
    "        file_name = train_df['file_name'].iloc[idx]\n",
    "        try:\n",
    "            image = Image.open(root_dir + file_name).convert('RGB')\n",
    "        except:\n",
    "            bad.append(idx)\n",
    "    \n",
    "    return bad\n",
    "\n",
    "root_dir = DatasetConfig.DATA_ROOT + \"/text_recognizer/train/\"\n",
    "bad_train = find_bad_imgs(root_dir, train_df)\n",
    "train_df.drop(index=train_df.iloc[bad_train].index, inplace=True)\n",
    "\n",
    "root_dir = DatasetConfig.DATA_ROOT + \"/text_recognizer/valid/\"\n",
    "bad_valid = find_bad_imgs(root_dir, valid_df)\n",
    "valid_df.drop(index=valid_df.iloc[bad_valid].index, inplace=True)\n",
    "\n",
    "root_dir = DatasetConfig.DATA_ROOT + \"/text_recognizer/test/\"\n",
    "bad_test = find_bad_imgs(root_dir, test_df)\n",
    "test_df.drop(index=test_df.iloc[bad_test].index, inplace=True)\n"
   ]
  },
  {
   "cell_type": "code",
   "execution_count": null,
   "id": "75a6ca98",
   "metadata": {},
   "outputs": [],
   "source": [
    "f\"Размер обучающей выборки: {len(train_df)} | Размер валидационной выборки: {len(valid_df)} | Размер тестовой выборки: {len(test_df)}\""
   ]
  },
  {
   "cell_type": "code",
   "execution_count": null,
   "id": "c615f878a14f0a75",
   "metadata": {
    "ExecuteTime": {
     "end_time": "2024-02-22T00:33:40.356703600Z",
     "start_time": "2024-02-22T00:33:40.344757400Z"
    },
    "collapsed": false
   },
   "outputs": [],
   "source": [
    "# Augmentations.\n",
    "train_transforms = transforms.Compose([\n",
    "    transforms.ColorJitter(brightness=.5, hue=.3),\n",
    "])"
   ]
  },
  {
   "cell_type": "code",
   "execution_count": null,
   "id": "332aa388004276e8",
   "metadata": {
    "ExecuteTime": {
     "end_time": "2024-02-22T00:33:42.031643300Z",
     "start_time": "2024-02-22T00:33:42.014123200Z"
    },
    "collapsed": false
   },
   "outputs": [],
   "source": [
    "class CustomOCRDataset(Dataset):\n",
    "    def __init__(self, root_dir, df, processor, max_target_length=128):\n",
    "        self.root_dir = root_dir\n",
    "        self.df = df\n",
    "        self.processor = processor\n",
    "        self.max_target_length = max_target_length\n",
    "\n",
    "\n",
    "    def __len__(self):\n",
    "        return len(self.df)\n",
    "\n",
    "\n",
    "    def __getitem__(self, idx):\n",
    "        # The image file name.\n",
    "        file_name = self.df['file_name'].iloc[idx]\n",
    "        # The text (label).\n",
    "        text = self.df['text'].iloc[idx]\n",
    "        # Read the image, apply augmentations, and get the transformed pixels.\n",
    "        image = Image.open(self.root_dir + file_name).convert('RGB')\n",
    "        \n",
    "        image = train_transforms(image)\n",
    "        pixel_values = self.processor(image, return_tensors='pt').pixel_values\n",
    "        # Pass the text through the tokenizer and get the labels,\n",
    "        # i.e. tokenized labels.\n",
    "        labels = self.processor.tokenizer(\n",
    "            text,\n",
    "            padding='max_length',\n",
    "            max_length=self.max_target_length\n",
    "        ).input_ids\n",
    "        # We are using -100 as the padding token.\n",
    "        labels = [label if label != self.processor.tokenizer.pad_token_id else -100 for label in labels]\n",
    "        encoding = {\"pixel_values\": pixel_values.squeeze(), \"labels\": torch.tensor(labels)}\n",
    "        return encoding"
   ]
  },
  {
   "cell_type": "code",
   "execution_count": null,
   "id": "cd940008fbcbfe04",
   "metadata": {
    "ExecuteTime": {
     "end_time": "2024-02-22T00:33:43.424304400Z",
     "start_time": "2024-02-22T00:33:42.504290100Z"
    },
    "collapsed": false
   },
   "outputs": [],
   "source": [
    "processor = TrOCRProcessor.from_pretrained(ModelConfig.MODEL_NAME)\n",
    "train_dataset = CustomOCRDataset(\n",
    "    root_dir=os.path.join(DatasetConfig.DATA_ROOT, 'text_recognizer/train/'),\n",
    "    df=train_df,\n",
    "    processor=processor\n",
    ")\n",
    "\n",
    "valid_dataset = CustomOCRDataset(\n",
    "    root_dir=os.path.join(DatasetConfig.DATA_ROOT, 'text_recognizer/valid/'),\n",
    "    df=valid_df,\n",
    "    processor=processor\n",
    ")\n",
    "\n",
    "test_dataset = CustomOCRDataset(\n",
    "    root_dir=os.path.join(DatasetConfig.DATA_ROOT, 'text_recognizer/test/'),\n",
    "    df=test_df,\n",
    "    processor=processor\n",
    ")"
   ]
  },
  {
   "cell_type": "code",
   "execution_count": null,
   "id": "12f405273944bb7",
   "metadata": {
    "ExecuteTime": {
     "end_time": "2024-02-22T00:33:44.778432100Z",
     "start_time": "2024-02-22T00:33:43.424304400Z"
    },
    "collapsed": false
   },
   "outputs": [],
   "source": [
    "model = VisionEncoderDecoderModel.from_pretrained(ModelConfig.MODEL_NAME)\n",
    "# model = VisionEncoderDecoderModel.from_pretrained(\"../../models/text_recognizer/checkpoint-1152/\", local_files_only=True)\n",
    "model.to(device)\n",
    "\n",
    "print(model)\n",
    "# Total parameters and trainable parameters.\n",
    "total_params = sum(p.numel() for p in model.parameters())\n",
    "print(f\"{total_params:,} total parameters.\")\n",
    "total_trainable_params = sum(\n",
    "    p.numel() for p in model.parameters() if p.requires_grad)\n",
    "print(f\"{total_trainable_params:,} training parameters.\")"
   ]
  },
  {
   "cell_type": "code",
   "execution_count": null,
   "id": "2885dabfab723aad",
   "metadata": {
    "ExecuteTime": {
     "end_time": "2024-02-22T00:33:44.808431700Z",
     "start_time": "2024-02-22T00:33:44.778432100Z"
    },
    "collapsed": false
   },
   "outputs": [],
   "source": [
    "# Set special tokens used for creating the decoder_input_ids from the labels.\n",
    "model.config.decoder_start_token_id = processor.tokenizer.cls_token_id\n",
    "model.config.pad_token_id = processor.tokenizer.pad_token_id\n",
    "# Set Correct vocab size.\n",
    "model.config.vocab_size = model.config.decoder.vocab_size\n",
    "model.config.eos_token_id = processor.tokenizer.sep_token_id\n",
    "\n",
    "model.config.max_length = 64\n",
    "model.config.early_stopping = True\n",
    "model.config.no_repeat_ngram_size = 3\n",
    "model.config.length_penalty = 2.0\n",
    "model.config.num_beams = 4"
   ]
  },
  {
   "cell_type": "code",
   "execution_count": null,
   "id": "56ecf33a3293c8d3",
   "metadata": {
    "ExecuteTime": {
     "end_time": "2024-02-22T00:33:44.940564800Z",
     "start_time": "2024-02-22T00:33:44.928564900Z"
    },
    "collapsed": false
   },
   "outputs": [],
   "source": [
    "optimizer = optim.AdamW(\n",
    "    model.parameters(), lr=TrainingConfig.LEARNING_RATE, weight_decay=0.0005\n",
    ")"
   ]
  },
  {
   "cell_type": "code",
   "execution_count": null,
   "id": "c1ca4d8efb8be9a8",
   "metadata": {
    "ExecuteTime": {
     "end_time": "2024-02-22T00:33:47.083917600Z",
     "start_time": "2024-02-22T00:33:45.671130700Z"
    },
    "collapsed": false
   },
   "outputs": [],
   "source": [
    "cer_metric = load_metric(\"cer\", trust_remote_code=True)\n",
    "wer_metric = load_metric(\"wer\", trust_remote_code=True)\n",
    "\n",
    "def compute_metrics(pred):\n",
    "    labels_ids = pred.label_ids\n",
    "    pred_ids = pred.predictions\n",
    "\n",
    "    pred_str = processor.batch_decode(pred_ids, skip_special_tokens=True)\n",
    "    labels_ids[labels_ids == -100] = processor.tokenizer.pad_token_id\n",
    "    label_str = processor.batch_decode(labels_ids, skip_special_tokens=True)\n",
    "\n",
    "    cer = cer_metric.compute(predictions=pred_str, references=label_str)\n",
    "    wer = wer_metric.compute(predictions=pred_str, references=label_str)\n",
    "\n",
    "    return {\"cer\": cer, \"wer\": wer}"
   ]
  },
  {
   "cell_type": "code",
   "execution_count": null,
   "id": "4a627db38bf825d4",
   "metadata": {
    "ExecuteTime": {
     "end_time": "2024-02-22T00:33:47.098184600Z",
     "start_time": "2024-02-22T00:33:47.083917600Z"
    },
    "collapsed": false
   },
   "outputs": [],
   "source": [
    "# если есть ClearML, то укажите свои настройки для логирования обучения детектора текста\n",
    "# с инструкцией, как поднять собственный ClearML, можно ознакомиться тут: https://github.com/allegroai/clearml-server \n",
    "%env CLEARML_WEB_HOST=http://localhost:8080\n",
    "%env CLEARML_API_HOST=http://localhost:8008\n",
    "%env CLEARML_FILES_HOST=http://localhost:8081\n",
    "%env CLEARML_API_ACCESS_KEY=LOIP4T1VXIPLP16VZJR9\n",
    "%env CLEARML_API_SECRET_KEY=RYVetvGfembTTfDKxnlWaXVWc60XWWka2WjNeRlczJmV5k2mgt"
   ]
  },
  {
   "cell_type": "code",
   "execution_count": null,
   "id": "d213f94178e9263d",
   "metadata": {
    "ExecuteTime": {
     "end_time": "2024-02-22T00:33:47.131182800Z",
     "start_time": "2024-02-22T00:33:47.100184700Z"
    },
    "collapsed": false
   },
   "outputs": [],
   "source": [
    "training_args = Seq2SeqTrainingArguments(\n",
    "    predict_with_generate=True,\n",
    "    evaluation_strategy='epoch',\n",
    "    per_device_train_batch_size=TrainingConfig.BATCH_SIZE,\n",
    "    per_device_eval_batch_size=TrainingConfig.BATCH_SIZE,\n",
    "    fp16=True,\n",
    "    output_dir='seq2seq_model_checkpoints/',\n",
    "    logging_strategy='epoch',\n",
    "    save_strategy='epoch',\n",
    "    save_total_limit=5,\n",
    "    report_to='clearml',\n",
    "    num_train_epochs=TrainingConfig.EPOCHS,\n",
    "    dataloader_num_workers=4\n",
    ")"
   ]
  },
  {
   "cell_type": "code",
   "execution_count": null,
   "id": "33d1b4e32630c170",
   "metadata": {
    "ExecuteTime": {
     "end_time": "2024-02-22T00:33:47.665804900Z",
     "start_time": "2024-02-22T00:33:47.649783300Z"
    },
    "collapsed": false
   },
   "outputs": [],
   "source": [
    "# Initialize trainer.\n",
    "trainer = Seq2SeqTrainer(\n",
    "    model=model,\n",
    "    tokenizer=processor.feature_extractor,\n",
    "    args=training_args,\n",
    "    compute_metrics=compute_metrics,\n",
    "    train_dataset=train_dataset,\n",
    "    eval_dataset=valid_dataset,\n",
    "    data_collator=default_data_collator\n",
    ")"
   ]
  },
  {
   "cell_type": "markdown",
   "id": "f6935b9a",
   "metadata": {},
   "source": [
    "# Обучим модель и посмотрим качество на тесте"
   ]
  },
  {
   "cell_type": "code",
   "execution_count": null,
   "id": "1d8b04cda4d1510a",
   "metadata": {
    "collapsed": false
   },
   "outputs": [],
   "source": [
    "res = trainer.train()"
   ]
  },
  {
   "cell_type": "code",
   "execution_count": null,
   "id": "1dd3ce34",
   "metadata": {},
   "outputs": [],
   "source": [
    "trainer.evaluate(test_dataset)"
   ]
  },
  {
   "cell_type": "markdown",
   "id": "24d79034",
   "metadata": {},
   "source": [
    "# Инференс по грамотам"
   ]
  },
  {
   "cell_type": "code",
   "execution_count": null,
   "id": "66f69152",
   "metadata": {},
   "outputs": [],
   "source": [
    "guber_df = test_df[test_df['label'] == 0]"
   ]
  },
  {
   "cell_type": "code",
   "execution_count": null,
   "id": "75228d61",
   "metadata": {},
   "outputs": [],
   "source": [
    "guber_dataset = CustomOCRDataset(\n",
    "    root_dir=os.path.join(DatasetConfig.DATA_ROOT, 'text_recognizer/test/'),\n",
    "    df=guber_df,\n",
    "    processor=processor\n",
    ")"
   ]
  },
  {
   "cell_type": "code",
   "execution_count": null,
   "id": "0e845c53",
   "metadata": {},
   "outputs": [],
   "source": [
    "trainer.evaluate(guber_dataset)"
   ]
  },
  {
   "cell_type": "markdown",
   "id": "ef8daf5c",
   "metadata": {},
   "source": [
    "# Инференс по уставным"
   ]
  },
  {
   "cell_type": "code",
   "execution_count": null,
   "id": "63ffa348",
   "metadata": {},
   "outputs": [],
   "source": [
    "otchet_df = test_df[(test_df['label'] == 1) | (test_df['label'] == 2)]"
   ]
  },
  {
   "cell_type": "code",
   "execution_count": null,
   "id": "4c8e28fa",
   "metadata": {},
   "outputs": [],
   "source": [
    "otchet_dataset = CustomOCRDataset(\n",
    "    root_dir=os.path.join(DatasetConfig.DATA_ROOT, 'text_recognizer/test/'),\n",
    "    df=otchet_df,\n",
    "    processor=processor\n",
    ")"
   ]
  },
  {
   "cell_type": "code",
   "execution_count": null,
   "id": "7938ea6c",
   "metadata": {},
   "outputs": [],
   "source": [
    "trainer.evaluate(otchet_dataset)"
   ]
  },
  {
   "cell_type": "markdown",
   "id": "37963778",
   "metadata": {},
   "source": [
    "# Инференс только по Победоносцеву"
   ]
  },
  {
   "cell_type": "code",
   "execution_count": null,
   "id": "9708a7fb",
   "metadata": {},
   "outputs": [],
   "source": [
    "pobed_df = test_df[test_df['label'] == 3]"
   ]
  },
  {
   "cell_type": "code",
   "execution_count": null,
   "id": "231f86dd",
   "metadata": {},
   "outputs": [],
   "source": [
    "pobed_dataset = CustomOCRDataset(\n",
    "    root_dir=os.path.join(DatasetConfig.DATA_ROOT, 'text_recognizer/test/'),\n",
    "    df=pobed_df,\n",
    "    processor=processor\n",
    ")"
   ]
  },
  {
   "cell_type": "code",
   "execution_count": null,
   "id": "869b2409",
   "metadata": {},
   "outputs": [],
   "source": [
    "trainer.evaluate(pobed_dataset)"
   ]
  },
  {
   "cell_type": "code",
   "execution_count": null,
   "id": "7202683f",
   "metadata": {},
   "outputs": [],
   "source": []
  },
  {
   "cell_type": "code",
   "execution_count": null,
   "id": "88eaf1f8",
   "metadata": {},
   "outputs": [],
   "source": [
    "# Example for a sequence-to-sequence task\n",
    "predictions = trainer.predict(pobed_dataset)\n",
    "\n",
    "decoded_predictions = [processor.decode(g, skip_special_tokens=True, clean_up_tokenization_spaces=True) for g in predictions.predictions]"
   ]
  },
  {
   "cell_type": "code",
   "execution_count": null,
   "id": "64ce442e",
   "metadata": {},
   "outputs": [],
   "source": [
    "pobed_df['pred'] = decoded_predictions"
   ]
  },
  {
   "cell_type": "code",
   "execution_count": null,
   "id": "1860825c",
   "metadata": {},
   "outputs": [],
   "source": [
    "pobed_df"
   ]
  },
  {
   "cell_type": "code",
   "execution_count": null,
   "id": "373c5973",
   "metadata": {},
   "outputs": [],
   "source": [
    "pobed_df.to_csv('../../reports/pobed_pred.csv', index=False)"
   ]
  }
 ],
 "metadata": {
  "kernelspec": {
   "display_name": "Python 3",
   "language": "python",
   "name": "python3"
  },
  "language_info": {
   "codemirror_mode": {
    "name": "ipython",
    "version": 3
   },
   "file_extension": ".py",
   "mimetype": "text/x-python",
   "name": "python",
   "nbconvert_exporter": "python",
   "pygments_lexer": "ipython3",
   "version": "3.10.12"
  }
 },
 "nbformat": 4,
 "nbformat_minor": 5
}
