{
 "cells": [
  {
   "cell_type": "code",
   "execution_count": 24,
   "id": "initial_id",
   "metadata": {
    "collapsed": true,
    "ExecuteTime": {
     "end_time": "2024-02-20T23:21:19.359554600Z",
     "start_time": "2024-02-20T23:21:19.353552200Z"
    }
   },
   "outputs": [],
   "source": [
    "import transformers\n",
    "from ultralytics import YOLO\n",
    "from PIL import Image, ImageOps"
   ]
  },
  {
   "cell_type": "code",
   "outputs": [],
   "source": [
    "text_detector = YOLO(\"../../models/text_tedector/text_detector.pt\").to(\"cpu\")"
   ],
   "metadata": {
    "collapsed": false,
    "ExecuteTime": {
     "end_time": "2024-02-20T23:16:29.711841300Z",
     "start_time": "2024-02-20T23:16:29.625842800Z"
    }
   },
   "id": "ca2bb729cddc93a7",
   "execution_count": 14
  },
  {
   "cell_type": "code",
   "outputs": [
    {
     "name": "stdout",
     "output_type": "stream",
     "text": [
      "0: 640x448 36 texts, 364.3ms\n",
      "Speed: 1.0ms preprocess, 364.3ms inference, 0.0ms postprocess per image at shape (1, 3, 640, 448)\n"
     ]
    }
   ],
   "source": [
    "img = Image.open(r\"P:\\PyProjects\\WORK_PROJECTS\\RANEPA\\Historical-docs-OCR\\data\\raw\\Распознавание текстов\\Уставные грамоты в jpg (Просветов)\\11227024_doc1.jpg\")\n",
    "img = ImageOps.exif_transpose(img)\n",
    "\n",
    "res = text_detector.predict([img])\n",
    "\n",
    "# Process results list\n",
    "for result in res:\n",
    "    boxes = result.boxes  # Boxes object for bounding box outputs\n",
    "    masks = result.masks  # Masks object for segmentation masks outputs\n",
    "    keypoints = result.keypoints  # Keypoints object for pose outputs\n",
    "    probs = result.probs  # Probs object for classification outputs\n",
    "    result.show()  # display to screen"
   ],
   "metadata": {
    "collapsed": false,
    "ExecuteTime": {
     "end_time": "2024-02-20T23:23:14.186932300Z",
     "start_time": "2024-02-20T23:23:07.545152400Z"
    }
   },
   "id": "c0226fb801062ed1",
   "execution_count": 29
  },
  {
   "cell_type": "code",
   "outputs": [],
   "source": [
    "from datasets import load_metric\n",
    "\n",
    "cer_metric = load_metric(\"cer\", trust_remote_code=True)\n",
    "wer_metric = load_metric(\"wer\", trust_remote_code=True)"
   ],
   "metadata": {
    "collapsed": false,
    "ExecuteTime": {
     "end_time": "2024-02-21T00:27:35.747175800Z",
     "start_time": "2024-02-21T00:27:34.244582Z"
    }
   },
   "id": "61b1151fbf2ab6aa",
   "execution_count": 34
  },
  {
   "cell_type": "code",
   "outputs": [
    {
     "name": "stdout",
     "output_type": "stream",
     "text": [
      "0.34146341463414637 0.5\n"
     ]
    }
   ],
   "source": [
    "predictions = [\"this is the prediction\", \"there is an other sample\"]\n",
    "references = [\"this is the reference\", \"there is another one\"]\n",
    "\n",
    "cer_score = cer_metric.compute(predictions=predictions, references=references)\n",
    "wer_score = wer_metric.compute(predictions=predictions, references=references)\n",
    "\n",
    "print(cer_score, wer_score)"
   ],
   "metadata": {
    "collapsed": false,
    "ExecuteTime": {
     "end_time": "2024-02-21T00:29:58.661076700Z",
     "start_time": "2024-02-21T00:29:58.628554700Z"
    }
   },
   "id": "e05339329077e97d",
   "execution_count": 46
  }
 ],
 "metadata": {
  "kernelspec": {
   "display_name": "Python 3",
   "language": "python",
   "name": "python3"
  },
  "language_info": {
   "codemirror_mode": {
    "name": "ipython",
    "version": 2
   },
   "file_extension": ".py",
   "mimetype": "text/x-python",
   "name": "python",
   "nbconvert_exporter": "python",
   "pygments_lexer": "ipython2",
   "version": "2.7.6"
  }
 },
 "nbformat": 4,
 "nbformat_minor": 5
}
