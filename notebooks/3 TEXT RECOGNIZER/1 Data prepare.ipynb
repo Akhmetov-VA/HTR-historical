{
 "cells": [
  {
   "cell_type": "code",
   "execution_count": 1,
   "id": "initial_id",
   "metadata": {
    "collapsed": true,
    "ExecuteTime": {
     "end_time": "2024-02-27T08:46:38.345318600Z",
     "start_time": "2024-02-27T08:46:31.272251500Z"
    }
   },
   "outputs": [],
   "source": [
    "import os\n",
    "import shutil\n",
    "import uuid\n",
    "import xml.etree.ElementTree as ET\n",
    "\n",
    "import pandas as pd\n",
    "from PIL import Image\n",
    "from sklearn.model_selection import train_test_split\n",
    "from tqdm.notebook import tqdm"
   ]
  },
  {
   "cell_type": "code",
   "outputs": [
    {
     "data": {
      "text/plain": "Подготавливаем обучающую выборку:   0%|          | 0/1619 [00:00<?, ?it/s]",
      "application/vnd.jupyter.widget-view+json": {
       "version_major": 2,
       "version_minor": 0,
       "model_id": "bad77e8e9a164659a64c0b9eb349c5e6"
      }
     },
     "metadata": {},
     "output_type": "display_data"
    },
    {
     "ename": "KeyboardInterrupt",
     "evalue": "",
     "output_type": "error",
     "traceback": [
      "\u001B[1;31m---------------------------------------------------------------------------\u001B[0m",
      "\u001B[1;31mKeyboardInterrupt\u001B[0m                         Traceback (most recent call last)",
      "Cell \u001B[1;32mIn[2], line 141\u001B[0m\n\u001B[0;32m    138\u001B[0m     \u001B[38;5;28;01mreturn\u001B[39;00m data\n\u001B[0;32m    140\u001B[0m \u001B[38;5;66;03m# Обработка данных для каждой выборки\u001B[39;00m\n\u001B[1;32m--> 141\u001B[0m train_dataframe \u001B[38;5;241m=\u001B[39m \u001B[43mprocess_data\u001B[49m\u001B[43m(\u001B[49m\u001B[43mtrain_images\u001B[49m\u001B[43m,\u001B[49m\u001B[43m \u001B[49m\u001B[43mtrain_annotations\u001B[49m\u001B[43m,\u001B[49m\u001B[43m \u001B[49m\u001B[43mimages_train_dir\u001B[49m\u001B[43m,\u001B[49m\u001B[43m \u001B[49m\u001B[38;5;124;43m\"\u001B[39;49m\u001B[38;5;124;43mобучающую\u001B[39;49m\u001B[38;5;124;43m\"\u001B[39;49m\u001B[43m)\u001B[49m\n\u001B[0;32m    142\u001B[0m test_dataframe \u001B[38;5;241m=\u001B[39m process_data(test_images, test_annotations, images_test_dir, \u001B[38;5;124m\"\u001B[39m\u001B[38;5;124mтестовую\u001B[39m\u001B[38;5;124m\"\u001B[39m)\n",
      "Cell \u001B[1;32mIn[2], line 122\u001B[0m, in \u001B[0;36mprocess_data\u001B[1;34m(images, annotations, image_save_path, data_type)\u001B[0m\n\u001B[0;32m    119\u001B[0m img \u001B[38;5;241m=\u001B[39m ImageOps\u001B[38;5;241m.\u001B[39mexif_transpose(img)\n\u001B[0;32m    121\u001B[0m \u001B[38;5;28;01mtry\u001B[39;00m:\n\u001B[1;32m--> 122\u001B[0m     cropped_segment \u001B[38;5;241m=\u001B[39m \u001B[43mimg\u001B[49m\u001B[38;5;241;43m.\u001B[39;49m\u001B[43mcrop\u001B[49m\u001B[43m(\u001B[49m\u001B[43mbbox\u001B[49m\u001B[43m)\u001B[49m\n\u001B[0;32m    123\u001B[0m     cropped_segment\u001B[38;5;241m.\u001B[39msave(os\u001B[38;5;241m.\u001B[39mpath\u001B[38;5;241m.\u001B[39mjoin(image_save_path, segment_name))\n\u001B[0;32m    125\u001B[0m     objects\u001B[38;5;241m.\u001B[39mappend({\u001B[38;5;124m\"\u001B[39m\u001B[38;5;124mfile_name\u001B[39m\u001B[38;5;124m\"\u001B[39m: segment_name, \u001B[38;5;124m\"\u001B[39m\u001B[38;5;124mtext\u001B[39m\u001B[38;5;124m\"\u001B[39m: name})\n",
      "File \u001B[1;32mF:\\WORKING_PROJECTS\\RANEPA\\Historical-docs-OCR\\.venv\\lib\\site-packages\\PIL\\Image.py:1220\u001B[0m, in \u001B[0;36mImage.crop\u001B[1;34m(self, box)\u001B[0m\n\u001B[0;32m   1217\u001B[0m     \u001B[38;5;28;01mraise\u001B[39;00m \u001B[38;5;167;01mValueError\u001B[39;00m(msg)\n\u001B[0;32m   1219\u001B[0m \u001B[38;5;28mself\u001B[39m\u001B[38;5;241m.\u001B[39mload()\n\u001B[1;32m-> 1220\u001B[0m \u001B[38;5;28;01mreturn\u001B[39;00m \u001B[38;5;28mself\u001B[39m\u001B[38;5;241m.\u001B[39m_new(\u001B[38;5;28;43mself\u001B[39;49m\u001B[38;5;241;43m.\u001B[39;49m\u001B[43m_crop\u001B[49m\u001B[43m(\u001B[49m\u001B[38;5;28;43mself\u001B[39;49m\u001B[38;5;241;43m.\u001B[39;49m\u001B[43mim\u001B[49m\u001B[43m,\u001B[49m\u001B[43m \u001B[49m\u001B[43mbox\u001B[49m\u001B[43m)\u001B[49m)\n",
      "File \u001B[1;32mF:\\WORKING_PROJECTS\\RANEPA\\Historical-docs-OCR\\.venv\\lib\\site-packages\\PIL\\Image.py:1240\u001B[0m, in \u001B[0;36mImage._crop\u001B[1;34m(self, im, box)\u001B[0m\n\u001B[0;32m   1236\u001B[0m absolute_values \u001B[38;5;241m=\u001B[39m (\u001B[38;5;28mabs\u001B[39m(x1 \u001B[38;5;241m-\u001B[39m x0), \u001B[38;5;28mabs\u001B[39m(y1 \u001B[38;5;241m-\u001B[39m y0))\n\u001B[0;32m   1238\u001B[0m _decompression_bomb_check(absolute_values)\n\u001B[1;32m-> 1240\u001B[0m \u001B[38;5;28;01mreturn\u001B[39;00m \u001B[43mim\u001B[49m\u001B[38;5;241;43m.\u001B[39;49m\u001B[43mcrop\u001B[49m\u001B[43m(\u001B[49m\u001B[43m(\u001B[49m\u001B[43mx0\u001B[49m\u001B[43m,\u001B[49m\u001B[43m \u001B[49m\u001B[43my0\u001B[49m\u001B[43m,\u001B[49m\u001B[43m \u001B[49m\u001B[43mx1\u001B[49m\u001B[43m,\u001B[49m\u001B[43m \u001B[49m\u001B[43my1\u001B[49m\u001B[43m)\u001B[49m\u001B[43m)\u001B[49m\n",
      "\u001B[1;31mKeyboardInterrupt\u001B[0m: "
     ]
    }
   ],
   "source": [
    "from PIL import ImageOps\n",
    "\n",
    "# Пути для сохранения разделенных выборок\n",
    "images_train_dir = \"../../data/processed/2 For OCR/train\"\n",
    "images_test_dir = \"../../data/processed/2 For OCR/test\"\n",
    "\n",
    "\n",
    "# Создание каталогов для train, test\n",
    "os.makedirs(images_train_dir, exist_ok=True)\n",
    "os.makedirs(images_test_dir, exist_ok=True)\n",
    "\n",
    "# Список для хранения путей к изображениям и разметкам\n",
    "images = []\n",
    "annotations = []\n",
    "\n",
    "###############################################################################\n",
    "############# Формируем датасет из каталога Губернаторские отчеты #############\n",
    "###############################################################################\n",
    "\n",
    "# Путь к каталогу с данными\n",
    "data_dir = \"../../data/raw/Распознавание текстов/Губернаторские отчеты\"\n",
    "\n",
    "# Перебор всех каталогов и файлов внутри data_dir\n",
    "for root, dirs, files in os.walk(data_dir):\n",
    "    for file in files:\n",
    "        if file.endswith(\".JPG\"):\n",
    "            image_path = os.path.join(root, file)\n",
    "            annotation_path = os.path.join(root, file.replace(\".JPG\", \"_pvoc_imglab.xml\"))\n",
    "            if os.path.exists(annotation_path):\n",
    "                images.append(image_path)\n",
    "                annotations.append(annotation_path)\n",
    "\n",
    "########################################################################################\n",
    "############# Формируем датасет из каталога Уставные грамоты – Афанасенков #############\n",
    "########################################################################################\n",
    "\n",
    "# Путь к каталогу с данными\n",
    "data_dir = \"../../data/raw/Распознавание текстов/Уставные грамоты – Афанасенков\"\n",
    "# Перебор всех каталогов и файлов внутри data_dir\n",
    "for root, dirs, files in os.walk(data_dir):\n",
    "    for file in files:\n",
    "        if file.endswith(\".jpg\"):\n",
    "            image_path = os.path.join(root, file)\n",
    "            annotation_path = os.path.join(root, file.replace(\".jpg\", \"_pvoc_imglab.xml\"))\n",
    "            if os.path.exists(annotation_path):\n",
    "                images.append(image_path)\n",
    "                annotations.append(annotation_path)\n",
    "\n",
    "############################################################################################\n",
    "############# Формируем датасет из каталога Уставные грамоты в jpg (Просветов) #############\n",
    "############################################################################################\n",
    "\n",
    "image_dir = \"../../data/raw/Распознавание текстов/Уставные грамоты в jpg (Просветов)\"\n",
    "annotation_dir = \"../../data/raw/Распознавание текстов/Уставные грамоты в jpg (Просветов)/Обработка/Просветов (13.12)\"\n",
    "\n",
    "# Перебор всех файлов изображений в image_dir\n",
    "for root, dirs, files in os.walk(image_dir):\n",
    "    for file in files:\n",
    "        if file.endswith(\".jpg\"):\n",
    "            image_path = os.path.join(root, file)\n",
    "            annotation_file = file.replace(\".jpg\", \"_pvoc_imglab.xml\")\n",
    "            annotation_path = os.path.join(annotation_dir, annotation_file)\n",
    "            if os.path.exists(annotation_path):\n",
    "                images.append(image_path)\n",
    "                annotations.append(annotation_path)\n",
    "\n",
    "\n",
    "# Разделение выборки на train, valid и test\n",
    "train_images, test_images, train_annotations, test_annotations = train_test_split(images, annotations, test_size=0.1, random_state=42)\n",
    "\n",
    "# Функция для копирования файлов\n",
    "def copy_files(images, annotations, dest_dir):\n",
    "    for image, annotation in zip(images, annotations):\n",
    "        shutil.copy(image, dest_dir)\n",
    "        shutil.copy(annotation, dest_dir)\n",
    "\n",
    "# Функция для преобразования координат в относительные координаты\n",
    "def convert_coordinates(size, box):\n",
    "    dw = 1. / size[0]\n",
    "    dh = 1. / size[1]\n",
    "    x = (box[0] + box[2]) / 2.0\n",
    "    y = (box[1] + box[3]) / 2.0\n",
    "    w = box[2] - box[0]\n",
    "    h = box[3] - box[1]\n",
    "    x_rel = x * dw\n",
    "    w_rel = w * dw\n",
    "    y_rel = y * dh\n",
    "    h_rel = h * dh\n",
    "    return x_rel, y_rel, w_rel, h_rel\n",
    "\n",
    "\n",
    "# Преобразование разметки для train выборки\n",
    "def process_data(images, annotations, image_save_path, data_type):\n",
    "    \n",
    "    # Счётчик количества ошибок в разметке боксов\n",
    "    err_count = 0\n",
    "    \n",
    "    # Датафрейм для датасета\n",
    "    data = pd.DataFrame()\n",
    "    \n",
    "    for image_path, annotation_path in tqdm(zip(images, annotations), total=len(images), desc=f\"Подготавливаем {data_type} выборку\"):\n",
    "        \n",
    "        # Преобразование разметки в формат YOLO\n",
    "        tree = ET.parse(annotation_path)\n",
    "        root = tree.getroot()\n",
    "\n",
    "        objects = []\n",
    "        for obj in root.findall(\"object\"):\n",
    "            segment_name = str(uuid.uuid4()) + \".JPG\"\n",
    "            name = obj.find(\"name\").text\n",
    "            bbox = [\n",
    "                float(obj.find(\"bndbox/xmin\").text),\n",
    "                float(obj.find(\"bndbox/ymin\").text),\n",
    "                float(obj.find(\"bndbox/xmax\").text),\n",
    "                float(obj.find(\"bndbox/ymax\").text),\n",
    "            ]\n",
    "            \n",
    "            img = Image.open(image_path)\n",
    "            img = ImageOps.exif_transpose(img)\n",
    "            \n",
    "            try:\n",
    "                cropped_segment = img.crop(bbox)\n",
    "                cropped_segment.save(os.path.join(image_save_path, segment_name))\n",
    "                \n",
    "                objects.append({\"file_name\": segment_name, \"text\": name})\n",
    "                \n",
    "            # могут быть ошибки разметки и DecompressionBombError\n",
    "            except Exception:\n",
    "                err_count += 1\n",
    "                continue\n",
    "        \n",
    "        # Добавляем полученные данные в датафрейм \n",
    "        new_data = pd.DataFrame(data=objects)\n",
    "        data = pd.concat([data, new_data])\n",
    "    \n",
    "    print(f\"Количество ошибок в разметке боксов: {err_count}\")\n",
    "    \n",
    "    return data\n",
    "            \n",
    "# Обработка данных для каждой выборки\n",
    "train_dataframe = process_data(train_images, train_annotations, images_train_dir, \"обучающую\")\n",
    "test_dataframe = process_data(test_images, test_annotations, images_test_dir, \"тестовую\")"
   ],
   "metadata": {
    "collapsed": false,
    "ExecuteTime": {
     "end_time": "2024-02-27T08:46:48.936155Z",
     "start_time": "2024-02-27T08:46:42.359404900Z"
    }
   },
   "id": "1d7ca29148aa6646",
   "execution_count": 2
  },
  {
   "cell_type": "code",
   "outputs": [],
   "source": [
    "train_dataframe.to_csv(\"../../data/processed/2 For OCR/train.csv\")\n",
    "test_dataframe.to_csv(\"../../data/processed/2 For OCR/test.csv\")"
   ],
   "metadata": {
    "collapsed": false,
    "ExecuteTime": {
     "end_time": "2024-02-21T23:57:39.391633700Z",
     "start_time": "2024-02-21T23:57:39.324634100Z"
    }
   },
   "id": "5dd35279752eb671",
   "execution_count": 69
  },
  {
   "cell_type": "code",
   "outputs": [
    {
     "data": {
      "text/plain": "'Размер обучающей выборки: 33090 | Размер тестовой выборки: 3831'"
     },
     "execution_count": 72,
     "metadata": {},
     "output_type": "execute_result"
    }
   ],
   "source": [
    "f\"Размер обучающей выборки: {len(train_dataframe)} | Размер тестовой выборки: {len(test_dataframe)}\""
   ],
   "metadata": {
    "collapsed": false,
    "ExecuteTime": {
     "end_time": "2024-02-21T23:58:29.204327100Z",
     "start_time": "2024-02-21T23:58:29.193326300Z"
    }
   },
   "id": "39f4de97b52c4082",
   "execution_count": 72
  }
 ],
 "metadata": {
  "kernelspec": {
   "display_name": "Python 3",
   "language": "python",
   "name": "python3"
  },
  "language_info": {
   "codemirror_mode": {
    "name": "ipython",
    "version": 2
   },
   "file_extension": ".py",
   "mimetype": "text/x-python",
   "name": "python",
   "nbconvert_exporter": "python",
   "pygments_lexer": "ipython2",
   "version": "2.7.6"
  }
 },
 "nbformat": 4,
 "nbformat_minor": 5
}
