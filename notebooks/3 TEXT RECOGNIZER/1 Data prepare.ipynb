{
 "cells": [
  {
   "cell_type": "code",
   "execution_count": 1,
   "id": "initial_id",
   "metadata": {
    "ExecuteTime": {
     "end_time": "2024-02-27T08:46:38.345318600Z",
     "start_time": "2024-02-27T08:46:31.272251500Z"
    },
    "collapsed": true
   },
   "outputs": [],
   "source": [
    "import os\n",
    "import shutil\n",
    "import uuid\n",
    "import xml.etree.ElementTree as ET\n",
    "\n",
    "import pandas as pd\n",
    "from PIL import Image\n",
    "from sklearn.model_selection import train_test_split\n",
    "from tqdm.notebook import tqdm"
   ]
  },
  {
   "cell_type": "code",
   "execution_count": 2,
   "id": "1d7ca29148aa6646",
   "metadata": {
    "ExecuteTime": {
     "end_time": "2024-02-27T08:46:48.936155Z",
     "start_time": "2024-02-27T08:46:42.359404900Z"
    },
    "collapsed": false
   },
   "outputs": [
    {
     "data": {
      "application/vnd.jupyter.widget-view+json": {
       "model_id": "bad77e8e9a164659a64c0b9eb349c5e6",
       "version_major": 2,
       "version_minor": 0
      },
      "text/plain": [
       "Подготавливаем обучающую выборку:   0%|          | 0/1619 [00:00<?, ?it/s]"
      ]
     },
     "metadata": {},
     "output_type": "display_data"
    },
    {
     "ename": "KeyboardInterrupt",
     "evalue": "",
     "output_type": "error",
     "traceback": [
      "\u001b[1;31m---------------------------------------------------------------------------\u001b[0m",
      "\u001b[1;31mKeyboardInterrupt\u001b[0m                         Traceback (most recent call last)",
      "Cell \u001b[1;32mIn[2], line 141\u001b[0m\n\u001b[0;32m    138\u001b[0m     \u001b[38;5;28;01mreturn\u001b[39;00m data\n\u001b[0;32m    140\u001b[0m \u001b[38;5;66;03m# Обработка данных для каждой выборки\u001b[39;00m\n\u001b[1;32m--> 141\u001b[0m train_dataframe \u001b[38;5;241m=\u001b[39m \u001b[43mprocess_data\u001b[49m\u001b[43m(\u001b[49m\u001b[43mtrain_images\u001b[49m\u001b[43m,\u001b[49m\u001b[43m \u001b[49m\u001b[43mtrain_annotations\u001b[49m\u001b[43m,\u001b[49m\u001b[43m \u001b[49m\u001b[43mimages_train_dir\u001b[49m\u001b[43m,\u001b[49m\u001b[43m \u001b[49m\u001b[38;5;124;43m\"\u001b[39;49m\u001b[38;5;124;43mобучающую\u001b[39;49m\u001b[38;5;124;43m\"\u001b[39;49m\u001b[43m)\u001b[49m\n\u001b[0;32m    142\u001b[0m test_dataframe \u001b[38;5;241m=\u001b[39m process_data(test_images, test_annotations, images_test_dir, \u001b[38;5;124m\"\u001b[39m\u001b[38;5;124mтестовую\u001b[39m\u001b[38;5;124m\"\u001b[39m)\n",
      "Cell \u001b[1;32mIn[2], line 122\u001b[0m, in \u001b[0;36mprocess_data\u001b[1;34m(images, annotations, image_save_path, data_type)\u001b[0m\n\u001b[0;32m    119\u001b[0m img \u001b[38;5;241m=\u001b[39m ImageOps\u001b[38;5;241m.\u001b[39mexif_transpose(img)\n\u001b[0;32m    121\u001b[0m \u001b[38;5;28;01mtry\u001b[39;00m:\n\u001b[1;32m--> 122\u001b[0m     cropped_segment \u001b[38;5;241m=\u001b[39m \u001b[43mimg\u001b[49m\u001b[38;5;241;43m.\u001b[39;49m\u001b[43mcrop\u001b[49m\u001b[43m(\u001b[49m\u001b[43mbbox\u001b[49m\u001b[43m)\u001b[49m\n\u001b[0;32m    123\u001b[0m     cropped_segment\u001b[38;5;241m.\u001b[39msave(os\u001b[38;5;241m.\u001b[39mpath\u001b[38;5;241m.\u001b[39mjoin(image_save_path, segment_name))\n\u001b[0;32m    125\u001b[0m     objects\u001b[38;5;241m.\u001b[39mappend({\u001b[38;5;124m\"\u001b[39m\u001b[38;5;124mfile_name\u001b[39m\u001b[38;5;124m\"\u001b[39m: segment_name, \u001b[38;5;124m\"\u001b[39m\u001b[38;5;124mtext\u001b[39m\u001b[38;5;124m\"\u001b[39m: name})\n",
      "File \u001b[1;32mF:\\WORKING_PROJECTS\\RANEPA\\Historical-docs-OCR\\.venv\\lib\\site-packages\\PIL\\Image.py:1220\u001b[0m, in \u001b[0;36mImage.crop\u001b[1;34m(self, box)\u001b[0m\n\u001b[0;32m   1217\u001b[0m     \u001b[38;5;28;01mraise\u001b[39;00m \u001b[38;5;167;01mValueError\u001b[39;00m(msg)\n\u001b[0;32m   1219\u001b[0m \u001b[38;5;28mself\u001b[39m\u001b[38;5;241m.\u001b[39mload()\n\u001b[1;32m-> 1220\u001b[0m \u001b[38;5;28;01mreturn\u001b[39;00m \u001b[38;5;28mself\u001b[39m\u001b[38;5;241m.\u001b[39m_new(\u001b[38;5;28;43mself\u001b[39;49m\u001b[38;5;241;43m.\u001b[39;49m\u001b[43m_crop\u001b[49m\u001b[43m(\u001b[49m\u001b[38;5;28;43mself\u001b[39;49m\u001b[38;5;241;43m.\u001b[39;49m\u001b[43mim\u001b[49m\u001b[43m,\u001b[49m\u001b[43m \u001b[49m\u001b[43mbox\u001b[49m\u001b[43m)\u001b[49m)\n",
      "File \u001b[1;32mF:\\WORKING_PROJECTS\\RANEPA\\Historical-docs-OCR\\.venv\\lib\\site-packages\\PIL\\Image.py:1240\u001b[0m, in \u001b[0;36mImage._crop\u001b[1;34m(self, im, box)\u001b[0m\n\u001b[0;32m   1236\u001b[0m absolute_values \u001b[38;5;241m=\u001b[39m (\u001b[38;5;28mabs\u001b[39m(x1 \u001b[38;5;241m-\u001b[39m x0), \u001b[38;5;28mabs\u001b[39m(y1 \u001b[38;5;241m-\u001b[39m y0))\n\u001b[0;32m   1238\u001b[0m _decompression_bomb_check(absolute_values)\n\u001b[1;32m-> 1240\u001b[0m \u001b[38;5;28;01mreturn\u001b[39;00m \u001b[43mim\u001b[49m\u001b[38;5;241;43m.\u001b[39;49m\u001b[43mcrop\u001b[49m\u001b[43m(\u001b[49m\u001b[43m(\u001b[49m\u001b[43mx0\u001b[49m\u001b[43m,\u001b[49m\u001b[43m \u001b[49m\u001b[43my0\u001b[49m\u001b[43m,\u001b[49m\u001b[43m \u001b[49m\u001b[43mx1\u001b[49m\u001b[43m,\u001b[49m\u001b[43m \u001b[49m\u001b[43my1\u001b[49m\u001b[43m)\u001b[49m\u001b[43m)\u001b[49m\n",
      "\u001b[1;31mKeyboardInterrupt\u001b[0m: "
     ]
    }
   ],
   "source": [
    "from PIL import ImageOps\n",
    "\n",
    "# Пути для сохранения разделенных выборок\n",
    "images_train_dir = \"../../data/processed/2 For OCR/train\"\n",
    "images_test_dir = \"../../data/processed/2 For OCR/test\"\n",
    "\n",
    "\n",
    "# Создание каталогов для train, test\n",
    "os.makedirs(images_train_dir, exist_ok=True)\n",
    "os.makedirs(images_test_dir, exist_ok=True)\n",
    "\n",
    "# Список для хранения путей к изображениям и разметкам\n",
    "images = []\n",
    "annotations = []\n",
    "\n",
    "###############################################################################\n",
    "############# Формируем датасет из каталога Губернаторские отчеты #############\n",
    "###############################################################################\n",
    "\n",
    "# Путь к каталогу с данными\n",
    "data_dir = \"../../data/raw/Распознавание текстов/Губернаторские отчеты\"\n",
    "\n",
    "# Перебор всех каталогов и файлов внутри data_dir\n",
    "for root, dirs, files in os.walk(data_dir):\n",
    "    for file in files:\n",
    "        if file.endswith(\".JPG\"):\n",
    "            image_path = os.path.join(root, file)\n",
    "            annotation_path = os.path.join(root, file.replace(\".JPG\", \"_pvoc_imglab.xml\"))\n",
    "            if os.path.exists(annotation_path):\n",
    "                images.append(image_path)\n",
    "                annotations.append(annotation_path)\n",
    "\n",
    "########################################################################################\n",
    "############# Формируем датасет из каталога Уставные грамоты – Афанасенков #############\n",
    "########################################################################################\n",
    "\n",
    "# Путь к каталогу с данными\n",
    "data_dir = \"../../data/raw/Распознавание текстов/Уставные грамоты – Афанасенков\"\n",
    "# Перебор всех каталогов и файлов внутри data_dir\n",
    "for root, dirs, files in os.walk(data_dir):\n",
    "    for file in files:\n",
    "        if file.endswith(\".jpg\"):\n",
    "            image_path = os.path.join(root, file)\n",
    "            annotation_path = os.path.join(root, file.replace(\".jpg\", \"_pvoc_imglab.xml\"))\n",
    "            if os.path.exists(annotation_path):\n",
    "                images.append(image_path)\n",
    "                annotations.append(annotation_path)\n",
    "\n",
    "############################################################################################\n",
    "############# Формируем датасет из каталога Уставные грамоты в jpg (Просветов) #############\n",
    "############################################################################################\n",
    "\n",
    "image_dir = \"../../data/raw/Распознавание текстов/Уставные грамоты в jpg (Просветов)\"\n",
    "annotation_dir = \"../../data/raw/Распознавание текстов/Уставные грамоты в jpg (Просветов)/Обработка/Просветов (13.12)\"\n",
    "\n",
    "# Перебор всех файлов изображений в image_dir\n",
    "for root, dirs, files in os.walk(image_dir):\n",
    "    for file in files:\n",
    "        if file.endswith(\".jpg\"):\n",
    "            image_path = os.path.join(root, file)\n",
    "            annotation_file = file.replace(\".jpg\", \"_pvoc_imglab.xml\")\n",
    "            annotation_path = os.path.join(annotation_dir, annotation_file)\n",
    "            if os.path.exists(annotation_path):\n",
    "                images.append(image_path)\n",
    "                annotations.append(annotation_path)\n",
    "\n",
    "\n",
    "# Разделение выборки на train, valid и test\n",
    "train_images, test_images, train_annotations, test_annotations = train_test_split(images, annotations, test_size=0.1, random_state=42)\n",
    "\n",
    "# Функция для копирования файлов\n",
    "def copy_files(images, annotations, dest_dir):\n",
    "    for image, annotation in zip(images, annotations):\n",
    "        shutil.copy(image, dest_dir)\n",
    "        shutil.copy(annotation, dest_dir)\n",
    "\n",
    "# Функция для преобразования координат в относительные координаты\n",
    "def convert_coordinates(size, box):\n",
    "    dw = 1. / size[0]\n",
    "    dh = 1. / size[1]\n",
    "    x = (box[0] + box[2]) / 2.0\n",
    "    y = (box[1] + box[3]) / 2.0\n",
    "    w = box[2] - box[0]\n",
    "    h = box[3] - box[1]\n",
    "    x_rel = x * dw\n",
    "    w_rel = w * dw\n",
    "    y_rel = y * dh\n",
    "    h_rel = h * dh\n",
    "    return x_rel, y_rel, w_rel, h_rel\n",
    "\n",
    "\n",
    "# Преобразование разметки для train выборки\n",
    "def process_data(images, annotations, image_save_path, data_type):\n",
    "    \n",
    "    # Счётчик количества ошибок в разметке боксов\n",
    "    err_count = 0\n",
    "    \n",
    "    # Датафрейм для датасета\n",
    "    data = pd.DataFrame()\n",
    "    \n",
    "    for image_path, annotation_path in tqdm(zip(images, annotations), total=len(images), desc=f\"Подготавливаем {data_type} выборку\"):\n",
    "        \n",
    "        # Преобразование разметки в формат YOLO\n",
    "        tree = ET.parse(annotation_path)\n",
    "        root = tree.getroot()\n",
    "\n",
    "        objects = []\n",
    "        for obj in root.findall(\"object\"):\n",
    "            segment_name = str(uuid.uuid4()) + \".JPG\"\n",
    "            name = obj.find(\"name\").text\n",
    "            bbox = [\n",
    "                float(obj.find(\"bndbox/xmin\").text),\n",
    "                float(obj.find(\"bndbox/ymin\").text),\n",
    "                float(obj.find(\"bndbox/xmax\").text),\n",
    "                float(obj.find(\"bndbox/ymax\").text),\n",
    "            ]\n",
    "            \n",
    "            img = Image.open(image_path)\n",
    "            img = ImageOps.exif_transpose(img)\n",
    "            \n",
    "            try:\n",
    "                cropped_segment = img.crop(bbox)\n",
    "                cropped_segment.save(os.path.join(image_save_path, segment_name))\n",
    "                \n",
    "                objects.append({\"file_name\": segment_name, \"text\": name})\n",
    "                \n",
    "            # могут быть ошибки разметки и DecompressionBombError\n",
    "            except Exception:\n",
    "                err_count += 1\n",
    "                continue\n",
    "        \n",
    "        # Добавляем полученные данные в датафрейм \n",
    "        new_data = pd.DataFrame(data=objects)\n",
    "        data = pd.concat([data, new_data])\n",
    "    \n",
    "    print(f\"Количество ошибок в разметке боксов: {err_count}\")\n",
    "    \n",
    "    return data\n",
    "            \n",
    "# Обработка данных для каждой выборки\n",
    "train_dataframe = process_data(train_images, train_annotations, images_train_dir, \"обучающую\")\n",
    "test_dataframe = process_data(test_images, test_annotations, images_test_dir, \"тестовую\")"
   ]
  },
  {
   "cell_type": "code",
   "execution_count": 69,
   "id": "5dd35279752eb671",
   "metadata": {
    "ExecuteTime": {
     "end_time": "2024-02-21T23:57:39.391633700Z",
     "start_time": "2024-02-21T23:57:39.324634100Z"
    },
    "collapsed": false
   },
   "outputs": [],
   "source": [
    "train_dataframe.to_csv(\"../../data/processed/2 For OCR/train.csv\")\n",
    "test_dataframe.to_csv(\"../../data/processed/2 For OCR/test.csv\")"
   ]
  },
  {
   "cell_type": "code",
   "execution_count": 72,
   "id": "39f4de97b52c4082",
   "metadata": {
    "ExecuteTime": {
     "end_time": "2024-02-21T23:58:29.204327100Z",
     "start_time": "2024-02-21T23:58:29.193326300Z"
    },
    "collapsed": false
   },
   "outputs": [
    {
     "data": {
      "text/plain": [
       "'Размер обучающей выборки: 33090 | Размер тестовой выборки: 3831'"
      ]
     },
     "execution_count": 72,
     "metadata": {},
     "output_type": "execute_result"
    }
   ],
   "source": [
    "f\"Размер обучающей выборки: {len(train_dataframe)} | Размер тестовой выборки: {len(test_dataframe)}\""
   ]
  }
 ],
 "metadata": {
  "kernelspec": {
   "display_name": "Python 3",
   "language": "python",
   "name": "python3"
  },
  "language_info": {
   "codemirror_mode": {
    "name": "ipython",
    "version": 2
   },
   "file_extension": ".py",
   "mimetype": "text/x-python",
   "name": "python",
   "nbconvert_exporter": "python",
   "pygments_lexer": "ipython2",
   "version": "3.10.12"
  }
 },
 "nbformat": 4,
 "nbformat_minor": 5
}
