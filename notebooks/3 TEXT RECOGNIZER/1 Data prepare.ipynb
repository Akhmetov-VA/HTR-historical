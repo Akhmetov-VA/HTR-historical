{
 "cells": [
  {
   "cell_type": "code",
   "execution_count": 24,
   "id": "initial_id",
   "metadata": {
    "collapsed": true,
    "ExecuteTime": {
     "end_time": "2024-02-20T23:21:19.359554600Z",
     "start_time": "2024-02-20T23:21:19.353552200Z"
    }
   },
   "outputs": [],
   "source": [
    "import transformers\n",
    "from ultralytics import YOLO\n",
    "from PIL import Image, ImageOps"
   ]
  },
  {
   "cell_type": "code",
   "outputs": [],
   "source": [
    "text_detector = YOLO(\"../../models/text_tedector/text_detector.pt\").to(\"cpu\")"
   ],
   "metadata": {
    "collapsed": false,
    "ExecuteTime": {
     "end_time": "2024-02-20T23:16:29.711841300Z",
     "start_time": "2024-02-20T23:16:29.625842800Z"
    }
   },
   "id": "ca2bb729cddc93a7",
   "execution_count": 14
  },
  {
   "cell_type": "code",
   "outputs": [
    {
     "name": "stdout",
     "output_type": "stream",
     "text": [
      "0: 640x448 36 texts, 364.3ms\n",
      "Speed: 1.0ms preprocess, 364.3ms inference, 0.0ms postprocess per image at shape (1, 3, 640, 448)\n"
     ]
    }
   ],
   "source": [
    "img = Image.open(r\"P:\\PyProjects\\WORK_PROJECTS\\RANEPA\\Historical-docs-OCR\\data\\raw\\Распознавание текстов\\Уставные грамоты в jpg (Просветов)\\11227024_doc1.jpg\")\n",
    "img = ImageOps.exif_transpose(img)\n",
    "\n",
    "res = text_detector.predict([img])\n",
    "\n",
    "# Process results list\n",
    "for result in res:\n",
    "    boxes = result.boxes  # Boxes object for bounding box outputs\n",
    "    masks = result.masks  # Masks object for segmentation masks outputs\n",
    "    keypoints = result.keypoints  # Keypoints object for pose outputs\n",
    "    probs = result.probs  # Probs object for classification outputs\n",
    "    result.show()  # display to screen"
   ],
   "metadata": {
    "collapsed": false,
    "ExecuteTime": {
     "end_time": "2024-02-20T23:23:14.186932300Z",
     "start_time": "2024-02-20T23:23:07.545152400Z"
    }
   },
   "id": "c0226fb801062ed1",
   "execution_count": 29
  }
 ],
 "metadata": {
  "kernelspec": {
   "display_name": "Python 3",
   "language": "python",
   "name": "python3"
  },
  "language_info": {
   "codemirror_mode": {
    "name": "ipython",
    "version": 2
   },
   "file_extension": ".py",
   "mimetype": "text/x-python",
   "name": "python",
   "nbconvert_exporter": "python",
   "pygments_lexer": "ipython2",
   "version": "2.7.6"
  }
 },
 "nbformat": 4,
 "nbformat_minor": 5
}
