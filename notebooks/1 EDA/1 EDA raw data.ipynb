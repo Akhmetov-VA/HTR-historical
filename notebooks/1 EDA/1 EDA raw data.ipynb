{
 "cells": [
  {
   "cell_type": "code",
   "execution_count": null,
   "id": "initial_id",
   "metadata": {
    "ExecuteTime": {
     "end_time": "2024-02-20T22:27:34.077517200Z",
     "start_time": "2024-02-20T22:27:34.045519100Z"
    },
    "collapsed": true
   },
   "outputs": [],
   "source": [
    "import pathlib\n",
    "import xml.etree.ElementTree as ET\n",
    "\n",
    "import pandas as pd\n",
    "import plotly.express as px\n",
    "\n",
    "%matplotlib inline"
   ]
  },
  {
   "cell_type": "markdown",
   "id": "1398b6ffc68c8b81",
   "metadata": {
    "collapsed": false
   },
   "source": [
    "\n",
    "1) Сколько документов в каждом регионе (размеченных) \n",
    "2) Сколько строк в каждом регионе\n",
    "3) Суммарно сколько размечено документов и сколько размечено строк"
   ]
  },
  {
   "cell_type": "markdown",
   "id": "2792a25896a59cdd",
   "metadata": {
    "collapsed": false
   },
   "source": [
    "Количество документов в каждом регионе (размеченных)"
   ]
  },
  {
   "cell_type": "code",
   "execution_count": null,
   "id": "dd0ceaadf9dbebb8",
   "metadata": {
    "ExecuteTime": {
     "end_time": "2024-02-20T22:27:50.551294700Z",
     "start_time": "2024-02-20T22:27:40.835214700Z"
    },
    "collapsed": false
   },
   "outputs": [],
   "source": [
    "root_path = pathlib.Path(\"../../data/raw/Распознавание текстов/Губернаторские отчеты\")\n",
    "\n",
    "result = dict()\n",
    "\n",
    "# пробегаем по директории с губенрскими отчётами\n",
    "for region_dir in root_path.iterdir():\n",
    "    # для каждой губернии формируем свой ключ в результирующем словаре и объявляем\n",
    "    # числа размеченных документов и количества строк\n",
    "    result[region_dir.stem] = {\"docs_count\": 0, \"strings_count\": 0}\n",
    "    # пробегаем по каждому документу из губернии\n",
    "    for region_data in region_dir.iterdir():\n",
    "        # если находим изображение, то увеличиваем счётчик количества документов\n",
    "        if region_data.suffix.lower() == \".jpg\":\n",
    "            result[region_dir.stem][\"docs_count\"] += 1\n",
    "        # если находим файл {JPEG}_imglab.xml, то парсим его и считаем количество строк\n",
    "        elif \"pvoc_imglab.xml\" in region_data.name:\n",
    "            tree = ET.parse(region_data)\n",
    "            root = tree.getroot()\n",
    "            result[region_dir.stem][\"strings_count\"] += sum(1 for _ in root.iter('name'))\n",
    "\n",
    "dataframe_result = pd.DataFrame(result.copy())\n",
    "    "
   ]
  },
  {
   "cell_type": "code",
   "execution_count": null,
   "id": "1ad24da00ddbd0f7",
   "metadata": {
    "ExecuteTime": {
     "end_time": "2024-02-20T22:27:56.941003400Z",
     "start_time": "2024-02-20T22:27:56.477923200Z"
    },
    "collapsed": false
   },
   "outputs": [],
   "source": [
    "scatter_frame = px.bar(\n",
    "    data_frame=dataframe_result.iloc[0],\n",
    "    title=\"Количество размеченных документов в каждом регионе\",\n",
    "    text_auto=True\n",
    ")\n",
    "\n",
    "scatter_frame.update_layout(\n",
    "    showlegend=False,\n",
    ")\n",
    "\n",
    "scatter_frame.update_xaxes(\n",
    "    title=\"Название губернии\",\n",
    "    categoryorder='total descending',\n",
    "    tickangle=45\n",
    ")\n",
    "\n",
    "scatter_frame.update_yaxes(\n",
    "    title=\"Количество документов\"\n",
    ")\n",
    "\n",
    "scatter_frame.show()"
   ]
  },
  {
   "cell_type": "code",
   "execution_count": null,
   "id": "e6b9af7b6469e6a0",
   "metadata": {
    "ExecuteTime": {
     "end_time": "2024-02-20T22:27:59.020094400Z",
     "start_time": "2024-02-20T22:27:58.981098500Z"
    },
    "collapsed": false
   },
   "outputs": [],
   "source": [
    "scatter_frame = px.bar(\n",
    "    data_frame=dataframe_result.iloc[1],\n",
    "    title=\"Количество размеченных строк в каждом регионе\",\n",
    "    text_auto=True\n",
    ")\n",
    "\n",
    "scatter_frame.update_layout(\n",
    "    showlegend=False,\n",
    ")\n",
    "\n",
    "scatter_frame.update_xaxes(\n",
    "    title=\"Название губернии\",\n",
    "    categoryorder='total descending',\n",
    "    tickangle=45\n",
    ")\n",
    "\n",
    "scatter_frame.update_yaxes(\n",
    "    title=\"Количество строк\"\n",
    ")\n",
    "\n",
    "scatter_frame.show()"
   ]
  },
  {
   "cell_type": "code",
   "execution_count": null,
   "id": "ac375aa1cd805297",
   "metadata": {
    "ExecuteTime": {
     "end_time": "2024-02-20T22:28:01.127345500Z",
     "start_time": "2024-02-20T22:28:01.090346400Z"
    },
    "collapsed": false
   },
   "outputs": [],
   "source": [
    "scatter_frame = px.bar(\n",
    "    data_frame=pd.DataFrame(\n",
    "        data={\"Количетсво документов\": dataframe_result.iloc[0].sum(), \"Количество строк\": dataframe_result.iloc[1].sum()},\n",
    "        index=['count']\n",
    "    ).T,\n",
    "    title=\"Количество размеченных документов и строк по всем регионам\",\n",
    "    text_auto=True\n",
    ")\n",
    "\n",
    "scatter_frame.update_layout(\n",
    "    showlegend=False,\n",
    ")\n",
    "\n",
    "scatter_frame.update_xaxes(\n",
    "    title=None\n",
    ")\n",
    "\n",
    "scatter_frame.update_yaxes(\n",
    "    title=None\n",
    ")\n",
    "\n",
    "scatter_frame.show()"
   ]
  }
 ],
 "metadata": {
  "kernelspec": {
   "display_name": "Python 3",
   "language": "python",
   "name": "python3"
  },
  "language_info": {
   "codemirror_mode": {
    "name": "ipython",
    "version": 2
   },
   "file_extension": ".py",
   "mimetype": "text/x-python",
   "name": "python",
   "nbconvert_exporter": "python",
   "pygments_lexer": "ipython2",
   "version": "2.7.6"
  }
 },
 "nbformat": 4,
 "nbformat_minor": 5
}
